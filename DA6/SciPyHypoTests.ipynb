{
 "cells": [
  {
   "cell_type": "markdown",
   "metadata": {},
   "source": [
    "# SciPy Hypothesis Testing\n",
    "Tony Nguyen\n",
    "\n",
    "CPSC 222 01\n",
    "\n",
    "11/22/2022\n",
    "\n",
    "I attempted the bonus question"
   ]
  },
  {
   "cell_type": "code",
   "execution_count": 70,
   "metadata": {},
   "outputs": [],
   "source": [
    "import pandas as pd\n",
    "import numpy as np\n",
    "from scipy import stats\n",
    "import matplotlib.pyplot as plt"
   ]
  },
  {
   "cell_type": "markdown",
   "metadata": {},
   "source": [
    "## Inpatient Rehabilitation Dataset\n",
    "### Description\n",
    "This dataset is the cleaned version from DA5, which contains information about 4,555 inpatients at rehabilitation hospitals. The data have been de-identified and randomized\n",
    "\n",
    "The attributes of this dataset include:\n",
    "\n",
    "* `ID`: Index of the dataset\n",
    "* `Gender`: \"M\" for male and \"F\" for female\n",
    "* `Age`: Years of age of the patient\n",
    "* `Marital Status`: The description of the patient's marital status\n",
    "* `RIC`: Rehabilitation Impairment Category. RIC follows the Centers of Medicaid and Medicare Services IRF-PAI training manual\n",
    "* `Admission Total FIM Score`: The admission of total Functional Independence Measure (FIM) scores of the patients.\n",
    "* `Discharge Total FIM Score`: The discharge total Functional Independence Measure (FIM) scores of the patients.\n",
    "\n",
    "Functional Independence Measure (FIM) is a clinical assessment used to measure patient functioning at inpatient rehabilitation hospitals, which is measured at two distinct points in time: admission and discharge. The FIM takes into account the level of assistance required to perform 18 activities of daily living tasks (13 motor and 5 cognitive activities) on a scale of 7-point for each task.\n",
    "\n",
    "Since we need to know if the mean age of women who had a stroke greater than the mean age of men who had a stroke, we are performing two samples (male and female), one-tailed (we want to know which group mean is greater), independent (the genders are different) test. "
   ]
  },
  {
   "cell_type": "code",
   "execution_count": 71,
   "metadata": {},
   "outputs": [
    {
     "data": {
      "text/html": [
       "<div>\n",
       "<style scoped>\n",
       "    .dataframe tbody tr th:only-of-type {\n",
       "        vertical-align: middle;\n",
       "    }\n",
       "\n",
       "    .dataframe tbody tr th {\n",
       "        vertical-align: top;\n",
       "    }\n",
       "\n",
       "    .dataframe thead th {\n",
       "        text-align: right;\n",
       "    }\n",
       "</style>\n",
       "<table border=\"1\" class=\"dataframe\">\n",
       "  <thead>\n",
       "    <tr style=\"text-align: right;\">\n",
       "      <th></th>\n",
       "      <th>Gender</th>\n",
       "      <th>Age</th>\n",
       "      <th>Marital Status</th>\n",
       "      <th>RIC</th>\n",
       "      <th>Admission Total FIM Score</th>\n",
       "      <th>Discharge Total FIM Score</th>\n",
       "    </tr>\n",
       "    <tr>\n",
       "      <th>ID</th>\n",
       "      <th></th>\n",
       "      <th></th>\n",
       "      <th></th>\n",
       "      <th></th>\n",
       "      <th></th>\n",
       "      <th></th>\n",
       "    </tr>\n",
       "  </thead>\n",
       "  <tbody>\n",
       "    <tr>\n",
       "      <th>0</th>\n",
       "      <td>M</td>\n",
       "      <td>80</td>\n",
       "      <td>Widowed</td>\n",
       "      <td>ReplLE</td>\n",
       "      <td>40</td>\n",
       "      <td>89</td>\n",
       "    </tr>\n",
       "    <tr>\n",
       "      <th>1</th>\n",
       "      <td>M</td>\n",
       "      <td>90</td>\n",
       "      <td>Divorced</td>\n",
       "      <td>Stroke</td>\n",
       "      <td>65</td>\n",
       "      <td>75</td>\n",
       "    </tr>\n",
       "    <tr>\n",
       "      <th>2</th>\n",
       "      <td>M</td>\n",
       "      <td>53</td>\n",
       "      <td>Married</td>\n",
       "      <td>TBI</td>\n",
       "      <td>67</td>\n",
       "      <td>99</td>\n",
       "    </tr>\n",
       "    <tr>\n",
       "      <th>3</th>\n",
       "      <td>F</td>\n",
       "      <td>69</td>\n",
       "      <td>Married</td>\n",
       "      <td>Pulmonary</td>\n",
       "      <td>41</td>\n",
       "      <td>67</td>\n",
       "    </tr>\n",
       "    <tr>\n",
       "      <th>4</th>\n",
       "      <td>F</td>\n",
       "      <td>80</td>\n",
       "      <td>Married</td>\n",
       "      <td>NTBI</td>\n",
       "      <td>66</td>\n",
       "      <td>65</td>\n",
       "    </tr>\n",
       "    <tr>\n",
       "      <th>...</th>\n",
       "      <td>...</td>\n",
       "      <td>...</td>\n",
       "      <td>...</td>\n",
       "      <td>...</td>\n",
       "      <td>...</td>\n",
       "      <td>...</td>\n",
       "    </tr>\n",
       "    <tr>\n",
       "      <th>4550</th>\n",
       "      <td>F</td>\n",
       "      <td>20</td>\n",
       "      <td>Married</td>\n",
       "      <td>TSCI</td>\n",
       "      <td>39</td>\n",
       "      <td>61</td>\n",
       "    </tr>\n",
       "    <tr>\n",
       "      <th>4551</th>\n",
       "      <td>M</td>\n",
       "      <td>82</td>\n",
       "      <td>Widowed</td>\n",
       "      <td>NTBI</td>\n",
       "      <td>59</td>\n",
       "      <td>50</td>\n",
       "    </tr>\n",
       "    <tr>\n",
       "      <th>4552</th>\n",
       "      <td>M</td>\n",
       "      <td>44</td>\n",
       "      <td>Married</td>\n",
       "      <td>MMT-BSCI</td>\n",
       "      <td>39</td>\n",
       "      <td>96</td>\n",
       "    </tr>\n",
       "    <tr>\n",
       "      <th>4553</th>\n",
       "      <td>M</td>\n",
       "      <td>46</td>\n",
       "      <td>Married</td>\n",
       "      <td>TBI</td>\n",
       "      <td>74</td>\n",
       "      <td>106</td>\n",
       "    </tr>\n",
       "    <tr>\n",
       "      <th>4554</th>\n",
       "      <td>M</td>\n",
       "      <td>81</td>\n",
       "      <td>Never married</td>\n",
       "      <td>NTBI</td>\n",
       "      <td>60</td>\n",
       "      <td>98</td>\n",
       "    </tr>\n",
       "  </tbody>\n",
       "</table>\n",
       "<p>4555 rows × 6 columns</p>\n",
       "</div>"
      ],
      "text/plain": [
       "     Gender  Age Marital Status        RIC  Admission Total FIM Score  \\\n",
       "ID                                                                      \n",
       "0         M   80        Widowed     ReplLE                         40   \n",
       "1         M   90       Divorced     Stroke                         65   \n",
       "2         M   53        Married        TBI                         67   \n",
       "3         F   69        Married  Pulmonary                         41   \n",
       "4         F   80        Married       NTBI                         66   \n",
       "...     ...  ...            ...        ...                        ...   \n",
       "4550      F   20        Married       TSCI                         39   \n",
       "4551      M   82        Widowed       NTBI                         59   \n",
       "4552      M   44        Married   MMT-BSCI                         39   \n",
       "4553      M   46        Married        TBI                         74   \n",
       "4554      M   81  Never married       NTBI                         60   \n",
       "\n",
       "      Discharge Total FIM Score  \n",
       "ID                               \n",
       "0                            89  \n",
       "1                            75  \n",
       "2                            99  \n",
       "3                            67  \n",
       "4                            65  \n",
       "...                         ...  \n",
       "4550                         61  \n",
       "4551                         50  \n",
       "4552                         96  \n",
       "4553                        106  \n",
       "4554                         98  \n",
       "\n",
       "[4555 rows x 6 columns]"
      ]
     },
     "execution_count": 71,
     "metadata": {},
     "output_type": "execute_result"
    }
   ],
   "source": [
    "patient_df = pd.read_csv(\"patient_data_cleaned.csv\", index_col=0)\n",
    "patient_df"
   ]
  },
  {
   "cell_type": "code",
   "execution_count": 72,
   "metadata": {},
   "outputs": [
    {
     "data": {
      "text/plain": [
       "ID\n",
       "1       90\n",
       "19      60\n",
       "29      56\n",
       "31      69\n",
       "37      61\n",
       "        ..\n",
       "4528    93\n",
       "4529    64\n",
       "4531    70\n",
       "4542    66\n",
       "4545    57\n",
       "Name: Age, Length: 607, dtype: int64"
      ]
     },
     "execution_count": 72,
     "metadata": {},
     "output_type": "execute_result"
    }
   ],
   "source": [
    "male_group = patient_df[(patient_df.Gender == \"M\") & (patient_df.RIC == \"Stroke\")][\"Age\"]\n",
    "male_group"
   ]
  },
  {
   "cell_type": "code",
   "execution_count": 73,
   "metadata": {},
   "outputs": [
    {
     "data": {
      "text/plain": [
       "ID\n",
       "10      72\n",
       "15      68\n",
       "20      74\n",
       "22      84\n",
       "27      68\n",
       "        ..\n",
       "4456    68\n",
       "4460    90\n",
       "4463    41\n",
       "4465    69\n",
       "4508    83\n",
       "Name: Age, Length: 562, dtype: int64"
      ]
     },
     "execution_count": 73,
     "metadata": {},
     "output_type": "execute_result"
    }
   ],
   "source": [
    "female_group = patient_df[(patient_df.Gender == \"F\") & (patient_df.RIC == \"Stroke\")][\"Age\"]\n",
    "female_group"
   ]
  },
  {
   "cell_type": "markdown",
   "metadata": {},
   "source": [
    "### Perform statistic calculation\n",
    "1. Male group"
   ]
  },
  {
   "cell_type": "code",
   "execution_count": 74,
   "metadata": {},
   "outputs": [
    {
     "name": "stdout",
     "output_type": "stream",
     "text": [
      "Male group sample mean is 70.07742998352553\n",
      "Male group standard deviation is 13.841474052468987\n",
      "Male group number of sample is 607\n"
     ]
    }
   ],
   "source": [
    "n_male = len(male_group)\n",
    "male_std = np.std(male_group, ddof=1)\n",
    "male_mean = np.mean(male_group)\n",
    "\n",
    "print(\"Male group sample mean is\", male_mean)\n",
    "print(\"Male group standard deviation is\", male_std)\n",
    "print(\"Male group number of sample is\", n_male)"
   ]
  },
  {
   "cell_type": "markdown",
   "metadata": {},
   "source": [
    "2. Female group"
   ]
  },
  {
   "cell_type": "code",
   "execution_count": 75,
   "metadata": {},
   "outputs": [
    {
     "name": "stdout",
     "output_type": "stream",
     "text": [
      "Female group sample mean is 72.6049822064057\n",
      "Female group standard deviation is 14.761702270444678\n",
      "Female group number of sample is 562\n"
     ]
    }
   ],
   "source": [
    "n_female = len(female_group)\n",
    "female_std = np.std(female_group, ddof=1)\n",
    "female_mean = np.mean(female_group)\n",
    "\n",
    "print(\"Female group sample mean is\", female_mean)\n",
    "print(\"Female group standard deviation is\", female_std)\n",
    "print(\"Female group number of sample is\", n_female)"
   ]
  },
  {
   "cell_type": "markdown",
   "metadata": {},
   "source": [
    "### Hypothesis testing: two-sample, one-tailed independent test\n",
    "1. State the null and alternative hypothesis\n",
    "* $H_0$: $\\mu_{female} \\leq \\mu_{male}$\n",
    "* $H_1$: $\\mu_{female} > \\mu_{male}$\n",
    "\n",
    "2. Select the significance level\n",
    "* $\\alpha$ = 0.01\n",
    "\n",
    "3. Select the appropriate test statistic\n",
    "$$t = \\frac {\\overline {X_{female}} - \\overline {X_{male}}}{\\sqrt {s_p^2 (\\frac {1}{n_{male}} + \\frac {1}{n_{female}})}}$$\n",
    "\n",
    "$$\\text {where } s_p^2 = \\frac{(n_{male} - 1)s_{male}^2 + (n_{female} - 1)s_{female}^2}{n_{male} + n_{female} - 2}$$ \n",
    "\n",
    "* $t = \\text {t-score}$\n",
    "* $\\overline{X} = \\text {Sample mean}$\n",
    "* $s_p^2 = \\text {Pooled variance}$\n",
    "* $s = \\text {Standard deviation}$\n",
    "* $n = \\text {Number of sample}$\n",
    "\n",
    "4. Formulate decision rule\n",
    "* $df = n_{male} + n_{female} - 2 = 607 + 562 - 2 = 1167$\n",
    "* Critical value: $t_{critical} = 2.326$\n",
    "* Since $H_1$: $\\mu_{female} > \\mu_{male}$, we are dealing with right-tailed test. The decision rule is as follow:\n",
    "    * If $t_{computed} > 2.326$, then *Reject $H_0$*\n",
    "    * If $t_{computed} \\leq 2.326$, then *Do no reject $H_0$*\n",
    "\n",
    "5. Make the decision\n",
    "* Compute $t_{computed}$ and $p_{value}$"
   ]
  },
  {
   "cell_type": "code",
   "execution_count": 76,
   "metadata": {},
   "outputs": [
    {
     "name": "stdout",
     "output_type": "stream",
     "text": [
      "t_computed is: 3.0212409378467506\n",
      "p_value is: 0.0012861144659843757\n",
      "Reject H0\n"
     ]
    }
   ],
   "source": [
    "t_computed, pval = stats.ttest_ind(female_group, male_group)\n",
    "print(\"t_computed is:\", t_computed)\n",
    "print(\"p_value is:\", pval / 2)\n",
    "\n",
    "alpha = 0.01\n",
    "t_critical = 2.326\n",
    "if (pval / 2) < alpha and t_computed > t_critical:\n",
    "    print(\"Reject H0\")\n",
    "elif (pval / 2) > alpha and t_computed <= t_critical:\n",
    "    print(\"Do not reject H0\")\n",
    "else:\n",
    "    print(\"Conflicting result\")"
   ]
  },
  {
   "cell_type": "markdown",
   "metadata": {},
   "source": [
    "* Write a conclusion\n",
    "    * At the 0.01 significance, we can conclude that the mean age of women who had a stroke greater than the mean age of men who had a stroke"
   ]
  },
  {
   "cell_type": "markdown",
   "metadata": {},
   "source": [
    "## Ed 222 and 322 student activities\n",
    "### Description\n",
    "The two json files contain the student activity from Gina's CPSC 222 (Fall 2021) and CPSC 322 (Spring 2021) classes, with their identifying information removed and order shuffled.\n",
    "\n",
    "The attributes of this dataset include:\n",
    "* `Views`\n",
    "* `Questions`\n",
    "* `Days Active`\n",
    "\n",
    "Since we need to know if there is a difference in the number of days 222 students are active on Ed (e.g. \"Days Active\") compared to 322 students, we are performing a two samples (222 and 322 students), two-tailed (we want to know if two group mean are equal), independent test (two classes are independently different)."
   ]
  },
  {
   "cell_type": "code",
   "execution_count": 77,
   "metadata": {},
   "outputs": [
    {
     "data": {
      "text/plain": [
       "0     11\n",
       "1      9\n",
       "2     12\n",
       "3     10\n",
       "4      3\n",
       "5      8\n",
       "6     15\n",
       "7      8\n",
       "8      8\n",
       "9      7\n",
       "10     2\n",
       "11     8\n",
       "12     4\n",
       "13     7\n",
       "14     9\n",
       "15     3\n",
       "16    12\n",
       "17    13\n",
       "18     2\n",
       "19    13\n",
       "20    12\n",
       "21    11\n",
       "22    11\n",
       "23    15\n",
       "24     2\n",
       "25     2\n",
       "26    21\n",
       "27     9\n",
       "28    13\n",
       "29     3\n",
       "30     8\n",
       "31    17\n",
       "Name: Days Active, dtype: int64"
      ]
     },
     "execution_count": 77,
     "metadata": {},
     "output_type": "execute_result"
    }
   ],
   "source": [
    "df_222 = pd.read_json(\"ed_222.json\")\n",
    "df_222 = df_222[\"Days Active\"]\n",
    "df_222"
   ]
  },
  {
   "cell_type": "code",
   "execution_count": 78,
   "metadata": {},
   "outputs": [
    {
     "data": {
      "text/plain": [
       "0     40\n",
       "1     11\n",
       "2     31\n",
       "3     44\n",
       "4     45\n",
       "      ..\n",
       "57    25\n",
       "58    34\n",
       "59    20\n",
       "60    52\n",
       "61     9\n",
       "Name: Days Active, Length: 62, dtype: int64"
      ]
     },
     "execution_count": 78,
     "metadata": {},
     "output_type": "execute_result"
    }
   ],
   "source": [
    "df_322 = pd.read_json(\"ed_322.json\")\n",
    "df_322 = df_322[\"Days Active\"]\n",
    "df_322"
   ]
  },
  {
   "cell_type": "markdown",
   "metadata": {},
   "source": [
    "### Perform statistic calculation\n",
    "1. CPSC 222 class"
   ]
  },
  {
   "cell_type": "code",
   "execution_count": 79,
   "metadata": {},
   "outputs": [
    {
     "name": "stdout",
     "output_type": "stream",
     "text": [
      "CPSC 222 sample mean is 9.0\n",
      "CPSC 222 standard deviation is 4.785731480813734\n",
      "CPSC 222 number of sample is 32\n"
     ]
    }
   ],
   "source": [
    "n_222 = len(df_222)\n",
    "df222_std = np.std(df_222, ddof=1)\n",
    "df222_mean = np.mean(df_222)\n",
    "\n",
    "print(\"CPSC 222 sample mean is\", df222_mean)\n",
    "print(\"CPSC 222 standard deviation is\", df222_std)\n",
    "print(\"CPSC 222 number of sample is\", n_222)"
   ]
  },
  {
   "cell_type": "markdown",
   "metadata": {},
   "source": [
    "2. CPSC 322 class"
   ]
  },
  {
   "cell_type": "code",
   "execution_count": 80,
   "metadata": {},
   "outputs": [
    {
     "name": "stdout",
     "output_type": "stream",
     "text": [
      "CPSC 322 sample mean is 23.870967741935484\n",
      "CPSC 322 standard deviation is 14.903497082149238\n",
      "CPSC 322 number of sample is 62\n"
     ]
    }
   ],
   "source": [
    "n_322 = len(df_322)\n",
    "df322_std = np.std(df_322, ddof=1)\n",
    "df322_mean = np.mean(df_322)\n",
    "\n",
    "print(\"CPSC 322 sample mean is\", df322_mean)\n",
    "print(\"CPSC 322 standard deviation is\", df322_std)\n",
    "print(\"CPSC 322 number of sample is\", n_322)"
   ]
  },
  {
   "cell_type": "markdown",
   "metadata": {},
   "source": [
    "### Hypothesis testing: two-sample, two-tailed independent test\n",
    "1. State the null and alternative hypothesis\n",
    "* $H_0$: $\\mu_{222} = \\mu_{322}$\n",
    "* $H_1$: $\\mu_{222} \\neq \\mu_{322}$\n",
    "\n",
    "2. Select the significance level\n",
    "* $\\alpha$ = 0.001\n",
    "\n",
    "3. Select the appropriate test statistic\n",
    "$$t = \\frac {\\overline {X_{222}} - \\overline {X_{322}}}{\\sqrt {s_p^2 (\\frac {1}{n_{222}} + \\frac {1}{n_{322}})}}$$\n",
    "\n",
    "$$\\text {where } s_p^2 = \\frac{(n_{222} - 1)s_{222}^2 + (n_{322} - 1)s_{322}^2}{n_{222} + n_{322} - 2}$$ \n",
    "\n",
    "* $t = \\text {t-score}$\n",
    "* $\\overline{X} = \\text {Sample mean}$\n",
    "* $s_p^2 = \\text {Pooled variance}$\n",
    "* $s = \\text {Standard deviation}$\n",
    "* $n = \\text {Number of sample}$\n",
    "\n",
    "4. Formulate decision rule\n",
    "* $df = n_{222} + n_{322} - 2 = 32 + 62 - 2 = 92$\n",
    "* Critical value: $t_{critical} = 3.4$\n",
    "* Since $H_1$: $\\mu_{222} \\neq \\mu_{322}$, we are dealing with two-tailed test. The decision rule is as follow:\n",
    "    * If $t_{computed} < -3.4$ or $> 3.4$, then *Reject $H_0$*\n",
    "    * If $-3.4 \\leq t_{computed} \\leq 3.4$, then *Do no reject $H_0$*\n",
    "\n",
    "5. Make the decision\n",
    "* Compute $t_{computed}$ and $p_{value}$"
   ]
  },
  {
   "cell_type": "code",
   "execution_count": 81,
   "metadata": {},
   "outputs": [
    {
     "name": "stdout",
     "output_type": "stream",
     "text": [
      "t_computed is: -5.487771363199516\n",
      "p_value is: 3.5684494006989487e-07\n",
      "Reject H0\n"
     ]
    }
   ],
   "source": [
    "t_computed, pval = stats.ttest_ind(df_222, df_322)\n",
    "print(\"t_computed is:\", t_computed)\n",
    "print(\"p_value is:\", pval)\n",
    "\n",
    "alpha = 0.001\n",
    "t_critical = 3.4\n",
    "if pval < alpha and (t_computed > t_critical or t_computed < -t_critical):\n",
    "    print(\"Reject H0\")\n",
    "elif pval > alpha and (-t_critical <= t_computed or t_computed <= t_critical):\n",
    "    print(\"Do not reject H0\")\n",
    "else:\n",
    "    print(\"Conflicting result\")"
   ]
  },
  {
   "cell_type": "markdown",
   "metadata": {},
   "source": [
    "* Write a conclusion\n",
    "    * At the 0.001 significance, we can conclude that the number of days CPSC 222 students are active on Ed is different from CPSC 322 students"
   ]
  },
  {
   "cell_type": "markdown",
   "metadata": {},
   "source": [
    "## IQ1 Duration Dataset\n",
    "### Description\n",
    "The file contains information about all of the IQ1 durations from Gina's CPSC 222 and CPSC 315 classes in Fall 2020.\n",
    "\n",
    "The attributes of this file include:\n",
    "* `In-person`: whether the student took the quiz in person or not. 1 means in-person, and 0 means remotely\n",
    "* `Hours Start to Finish`: time needed to complete the quiz, expressed as a fraction of an hour\n",
    "\n",
    "Since we want to know whether the mean duration for students who took the quiz remotely greater than the mean duration for students who took the quiz in the classroom, we are performing two samples (in-person or remotely), one-tailed (we want to know if the value for remote is greater), independent (two groups are not related) test\n",
    "\n",
    "For this test, I will use **ip** when refer to *in-person* and **re** for *remote* "
   ]
  },
  {
   "cell_type": "code",
   "execution_count": 82,
   "metadata": {},
   "outputs": [
    {
     "data": {
      "text/html": [
       "<div>\n",
       "<style scoped>\n",
       "    .dataframe tbody tr th:only-of-type {\n",
       "        vertical-align: middle;\n",
       "    }\n",
       "\n",
       "    .dataframe tbody tr th {\n",
       "        vertical-align: top;\n",
       "    }\n",
       "\n",
       "    .dataframe thead th {\n",
       "        text-align: right;\n",
       "    }\n",
       "</style>\n",
       "<table border=\"1\" class=\"dataframe\">\n",
       "  <thead>\n",
       "    <tr style=\"text-align: right;\">\n",
       "      <th></th>\n",
       "      <th>In-person</th>\n",
       "      <th>Hours Start to Finish</th>\n",
       "    </tr>\n",
       "  </thead>\n",
       "  <tbody>\n",
       "    <tr>\n",
       "      <th>0</th>\n",
       "      <td>0</td>\n",
       "      <td>0.14</td>\n",
       "    </tr>\n",
       "    <tr>\n",
       "      <th>1</th>\n",
       "      <td>0</td>\n",
       "      <td>0.10</td>\n",
       "    </tr>\n",
       "    <tr>\n",
       "      <th>2</th>\n",
       "      <td>0</td>\n",
       "      <td>0.13</td>\n",
       "    </tr>\n",
       "    <tr>\n",
       "      <th>3</th>\n",
       "      <td>0</td>\n",
       "      <td>0.10</td>\n",
       "    </tr>\n",
       "    <tr>\n",
       "      <th>4</th>\n",
       "      <td>0</td>\n",
       "      <td>0.16</td>\n",
       "    </tr>\n",
       "    <tr>\n",
       "      <th>...</th>\n",
       "      <td>...</td>\n",
       "      <td>...</td>\n",
       "    </tr>\n",
       "    <tr>\n",
       "      <th>89</th>\n",
       "      <td>1</td>\n",
       "      <td>0.12</td>\n",
       "    </tr>\n",
       "    <tr>\n",
       "      <th>90</th>\n",
       "      <td>1</td>\n",
       "      <td>0.09</td>\n",
       "    </tr>\n",
       "    <tr>\n",
       "      <th>91</th>\n",
       "      <td>1</td>\n",
       "      <td>0.09</td>\n",
       "    </tr>\n",
       "    <tr>\n",
       "      <th>92</th>\n",
       "      <td>1</td>\n",
       "      <td>0.07</td>\n",
       "    </tr>\n",
       "    <tr>\n",
       "      <th>93</th>\n",
       "      <td>1</td>\n",
       "      <td>0.08</td>\n",
       "    </tr>\n",
       "  </tbody>\n",
       "</table>\n",
       "<p>94 rows × 2 columns</p>\n",
       "</div>"
      ],
      "text/plain": [
       "    In-person  Hours Start to Finish\n",
       "0           0                   0.14\n",
       "1           0                   0.10\n",
       "2           0                   0.13\n",
       "3           0                   0.10\n",
       "4           0                   0.16\n",
       "..        ...                    ...\n",
       "89          1                   0.12\n",
       "90          1                   0.09\n",
       "91          1                   0.09\n",
       "92          1                   0.07\n",
       "93          1                   0.08\n",
       "\n",
       "[94 rows x 2 columns]"
      ]
     },
     "execution_count": 82,
     "metadata": {},
     "output_type": "execute_result"
    }
   ],
   "source": [
    "iq1_df = pd.read_csv(\"IQ1_quiz_durations.csv\")\n",
    "iq1_df"
   ]
  },
  {
   "cell_type": "code",
   "execution_count": 83,
   "metadata": {},
   "outputs": [
    {
     "data": {
      "text/plain": [
       "48    0.13\n",
       "49    0.06\n",
       "50    0.15\n",
       "51    0.08\n",
       "52    0.13\n",
       "53    0.14\n",
       "54    0.12\n",
       "55    0.11\n",
       "56    0.10\n",
       "57    0.10\n",
       "58    0.10\n",
       "59    0.10\n",
       "60    0.11\n",
       "61    0.13\n",
       "62    0.10\n",
       "63    0.13\n",
       "64    0.07\n",
       "65    0.10\n",
       "66    0.08\n",
       "67    0.04\n",
       "68    0.08\n",
       "69    0.09\n",
       "70    0.05\n",
       "71    0.09\n",
       "72    0.17\n",
       "73    0.08\n",
       "74    0.06\n",
       "75    0.06\n",
       "76    0.14\n",
       "77    0.08\n",
       "78    0.09\n",
       "79    0.07\n",
       "80    0.08\n",
       "81    0.06\n",
       "82    0.07\n",
       "83    0.12\n",
       "84    0.08\n",
       "85    0.06\n",
       "86    0.15\n",
       "87    0.07\n",
       "88    0.08\n",
       "89    0.12\n",
       "90    0.09\n",
       "91    0.09\n",
       "92    0.07\n",
       "93    0.08\n",
       "Name: Hours Start to Finish, dtype: float64"
      ]
     },
     "execution_count": 83,
     "metadata": {},
     "output_type": "execute_result"
    }
   ],
   "source": [
    "ip_df = iq1_df[iq1_df[\"In-person\"] == 1][\"Hours Start to Finish\"]\n",
    "ip_df"
   ]
  },
  {
   "cell_type": "code",
   "execution_count": 84,
   "metadata": {},
   "outputs": [
    {
     "data": {
      "text/plain": [
       "0     0.14\n",
       "1     0.10\n",
       "2     0.13\n",
       "3     0.10\n",
       "4     0.16\n",
       "5     0.17\n",
       "6     0.13\n",
       "7     0.12\n",
       "8     0.16\n",
       "9     0.12\n",
       "10    0.16\n",
       "11    0.09\n",
       "12    0.15\n",
       "13    0.11\n",
       "14    0.08\n",
       "15    0.14\n",
       "16    0.14\n",
       "17    0.15\n",
       "18    0.12\n",
       "19    0.10\n",
       "20    0.10\n",
       "21    0.12\n",
       "22    0.11\n",
       "23    0.10\n",
       "24    0.16\n",
       "25    0.14\n",
       "26    0.09\n",
       "27    0.09\n",
       "28    0.04\n",
       "29    0.11\n",
       "30    0.12\n",
       "31    0.08\n",
       "32    0.12\n",
       "33    0.22\n",
       "34    0.08\n",
       "35    0.16\n",
       "36    0.12\n",
       "37    0.10\n",
       "38    0.09\n",
       "39    0.22\n",
       "40    0.13\n",
       "41    0.15\n",
       "42    0.11\n",
       "43    0.08\n",
       "44    0.08\n",
       "45    0.10\n",
       "46    0.12\n",
       "47    0.21\n",
       "Name: Hours Start to Finish, dtype: float64"
      ]
     },
     "execution_count": 84,
     "metadata": {},
     "output_type": "execute_result"
    }
   ],
   "source": [
    "re_df = iq1_df[iq1_df[\"In-person\"] == 0][\"Hours Start to Finish\"]\n",
    "re_df"
   ]
  },
  {
   "cell_type": "markdown",
   "metadata": {},
   "source": [
    "### Perform statistic calculation\n",
    "1. In-person group"
   ]
  },
  {
   "cell_type": "code",
   "execution_count": 85,
   "metadata": {},
   "outputs": [
    {
     "name": "stdout",
     "output_type": "stream",
     "text": [
      "In-person group sample mean is 0.09478260869565218\n",
      "In-person group standard deviation is 0.029645245482372806\n",
      "In-person group number of sample is 46\n"
     ]
    }
   ],
   "source": [
    "n_ip = len(ip_df)\n",
    "ip_std = np.std(ip_df, ddof=1)\n",
    "ip_mean = np.mean(ip_df)\n",
    "\n",
    "print(\"In-person group sample mean is\", ip_mean)\n",
    "print(\"In-person group standard deviation is\", ip_std)\n",
    "print(\"In-person group number of sample is\", n_ip)"
   ]
  },
  {
   "cell_type": "markdown",
   "metadata": {},
   "source": [
    "2. Remote group"
   ]
  },
  {
   "cell_type": "code",
   "execution_count": 86,
   "metadata": {},
   "outputs": [
    {
     "name": "stdout",
     "output_type": "stream",
     "text": [
      "Remote group sample mean is 0.12333333333333335\n",
      "Remote group standard deviation is 0.036862789479730776\n",
      "Remote group number of sample is 48\n"
     ]
    }
   ],
   "source": [
    "n_re = len(re_df)\n",
    "re_std = np.std(re_df, ddof=1)\n",
    "re_mean = np.mean(re_df)\n",
    "\n",
    "print(\"Remote group sample mean is\", re_mean)\n",
    "print(\"Remote group standard deviation is\", re_std)\n",
    "print(\"Remote group number of sample is\", n_re)"
   ]
  },
  {
   "cell_type": "markdown",
   "metadata": {},
   "source": [
    "### Hypothesis testing: two-sample, one-tailed independent test\n",
    "1. State the null and alternative hypothesis\n",
    "* $H_0$: $\\mu_{re} \\leq \\mu_{ip}$\n",
    "* $H_1$: $\\mu_{re} > \\mu_{ip}$\n",
    "\n",
    "2. Select the significance level\n",
    "* $\\alpha$ = 0.005\n",
    "\n",
    "3. Select the appropriate test statistic\n",
    "$$t = \\frac {\\overline {X_{re}} - \\overline {X_{ip}}}{\\sqrt {s_p^2 (\\frac {1}{n_{re}} + \\frac {1}{n_{ip}})}}$$\n",
    "\n",
    "$$\\text {where } s_p^2 = \\frac{(n_{ip} - 1)s_{ip}^2 + (n_{re} - 1)s_{re}^2}{n_{ip} + n_{re} - 2}$$ \n",
    "\n",
    "* $t = \\text {t-score}$\n",
    "* $\\overline{X} = \\text {Sample mean}$\n",
    "* $s_p^2 = \\text {Pooled variance}$\n",
    "* $s = \\text {Standard deviation}$\n",
    "* $n = \\text {Number of sample}$\n",
    "\n",
    "4. Formulate decision rule\n",
    "* $df = n_{re} + n_{ip} - 2 = 48 + 46 - 2 = 92$\n",
    "* Critical value: $t_{critical} = 2.6308$\n",
    "* Since $H_1$: $\\mu_{re} > \\mu_{ip}$, we are dealing with right-tailed test. The decision rule is as follow:\n",
    "    * If $t_{computed} > 2.6308$, then *Reject $H_0$*\n",
    "    * If $t_{computed} \\leq 2.6308$, then *Do no reject $H_0$*\n",
    "\n",
    "5. Make the decision\n",
    "* Compute $t_{computed}$ and $p_{value}$"
   ]
  },
  {
   "cell_type": "code",
   "execution_count": 87,
   "metadata": {},
   "outputs": [
    {
     "name": "stdout",
     "output_type": "stream",
     "text": [
      "t_computed is: 4.12720417112991\n",
      "p_value is: 4.029306042293943e-05\n",
      "Reject H0\n"
     ]
    }
   ],
   "source": [
    "t_computed, pval = stats.ttest_ind(re_df, ip_df)\n",
    "print(\"t_computed is:\", t_computed)\n",
    "print(\"p_value is:\", pval / 2)\n",
    "\n",
    "alpha = 0.005\n",
    "t_critical = 2.6308\n",
    "if (pval / 2) < alpha and t_computed > t_critical:\n",
    "    print(\"Reject H0\")\n",
    "elif (pval / 2) > alpha and t_computed <= t_critical:\n",
    "    print(\"Do not reject H0\")\n",
    "else:\n",
    "    print(\"Conflicting result\")"
   ]
  },
  {
   "cell_type": "markdown",
   "metadata": {},
   "source": [
    "* Write a conclusion\n",
    "    * At the 0.005 significance, we can conclude that the mean duration for students who took the quiz remotely greater than the mean duration for students who took the quiz in the classroom"
   ]
  },
  {
   "cell_type": "markdown",
   "metadata": {},
   "source": [
    "## Circuit trial dataset\n",
    "### Description\n",
    "This dataset contains circuit information for 27 subjects. A circuit consists of performing several tasks like standing up from a chair, walking, and loading into a vehicle. Each subject completed the circuit at two different points in time, one week apart, producing two trials, A and B. During the week between trials, subjects received therapy services to improve their ability to perform the circuit\n",
    "\n",
    "The attributes of this dataset includes:\n",
    "* `Participant ID`\n",
    "* `Trial ID`\n",
    "* `Duration`: in second\n",
    "\n",
    "Since we want to know if the mean circuit duration for subjects at trial B less than it was at trial A, we are performing two sample (group A and B), one-tailed (we want to know if the mean is less for B than A), dependent (we compare before and after receiving therapy) test"
   ]
  },
  {
   "cell_type": "code",
   "execution_count": 88,
   "metadata": {},
   "outputs": [
    {
     "data": {
      "text/html": [
       "<div>\n",
       "<style scoped>\n",
       "    .dataframe tbody tr th:only-of-type {\n",
       "        vertical-align: middle;\n",
       "    }\n",
       "\n",
       "    .dataframe tbody tr th {\n",
       "        vertical-align: top;\n",
       "    }\n",
       "\n",
       "    .dataframe thead th {\n",
       "        text-align: right;\n",
       "    }\n",
       "</style>\n",
       "<table border=\"1\" class=\"dataframe\">\n",
       "  <thead>\n",
       "    <tr style=\"text-align: right;\">\n",
       "      <th></th>\n",
       "      <th>Participant ID</th>\n",
       "      <th>Trial ID</th>\n",
       "      <th>Duration</th>\n",
       "    </tr>\n",
       "  </thead>\n",
       "  <tbody>\n",
       "    <tr>\n",
       "      <th>0</th>\n",
       "      <td>1</td>\n",
       "      <td>A</td>\n",
       "      <td>168.383270</td>\n",
       "    </tr>\n",
       "    <tr>\n",
       "      <th>1</th>\n",
       "      <td>1</td>\n",
       "      <td>B</td>\n",
       "      <td>113.439422</td>\n",
       "    </tr>\n",
       "    <tr>\n",
       "      <th>2</th>\n",
       "      <td>2</td>\n",
       "      <td>A</td>\n",
       "      <td>117.050019</td>\n",
       "    </tr>\n",
       "    <tr>\n",
       "      <th>3</th>\n",
       "      <td>2</td>\n",
       "      <td>B</td>\n",
       "      <td>114.086975</td>\n",
       "    </tr>\n",
       "    <tr>\n",
       "      <th>4</th>\n",
       "      <td>3</td>\n",
       "      <td>A</td>\n",
       "      <td>186.043793</td>\n",
       "    </tr>\n",
       "    <tr>\n",
       "      <th>5</th>\n",
       "      <td>3</td>\n",
       "      <td>B</td>\n",
       "      <td>127.214630</td>\n",
       "    </tr>\n",
       "    <tr>\n",
       "      <th>6</th>\n",
       "      <td>4</td>\n",
       "      <td>A</td>\n",
       "      <td>60.143890</td>\n",
       "    </tr>\n",
       "    <tr>\n",
       "      <th>7</th>\n",
       "      <td>4</td>\n",
       "      <td>B</td>\n",
       "      <td>55.689514</td>\n",
       "    </tr>\n",
       "    <tr>\n",
       "      <th>8</th>\n",
       "      <td>5</td>\n",
       "      <td>A</td>\n",
       "      <td>85.594666</td>\n",
       "    </tr>\n",
       "    <tr>\n",
       "      <th>9</th>\n",
       "      <td>5</td>\n",
       "      <td>B</td>\n",
       "      <td>64.048828</td>\n",
       "    </tr>\n",
       "    <tr>\n",
       "      <th>10</th>\n",
       "      <td>6</td>\n",
       "      <td>A</td>\n",
       "      <td>260.787079</td>\n",
       "    </tr>\n",
       "    <tr>\n",
       "      <th>11</th>\n",
       "      <td>6</td>\n",
       "      <td>B</td>\n",
       "      <td>237.651764</td>\n",
       "    </tr>\n",
       "    <tr>\n",
       "      <th>12</th>\n",
       "      <td>7</td>\n",
       "      <td>A</td>\n",
       "      <td>154.470702</td>\n",
       "    </tr>\n",
       "    <tr>\n",
       "      <th>13</th>\n",
       "      <td>7</td>\n",
       "      <td>B</td>\n",
       "      <td>124.938385</td>\n",
       "    </tr>\n",
       "    <tr>\n",
       "      <th>14</th>\n",
       "      <td>8</td>\n",
       "      <td>A</td>\n",
       "      <td>134.533935</td>\n",
       "    </tr>\n",
       "    <tr>\n",
       "      <th>15</th>\n",
       "      <td>8</td>\n",
       "      <td>B</td>\n",
       "      <td>149.309906</td>\n",
       "    </tr>\n",
       "    <tr>\n",
       "      <th>16</th>\n",
       "      <td>9</td>\n",
       "      <td>A</td>\n",
       "      <td>362.001465</td>\n",
       "    </tr>\n",
       "    <tr>\n",
       "      <th>17</th>\n",
       "      <td>9</td>\n",
       "      <td>B</td>\n",
       "      <td>272.070160</td>\n",
       "    </tr>\n",
       "    <tr>\n",
       "      <th>18</th>\n",
       "      <td>10</td>\n",
       "      <td>A</td>\n",
       "      <td>116.225860</td>\n",
       "    </tr>\n",
       "    <tr>\n",
       "      <th>19</th>\n",
       "      <td>10</td>\n",
       "      <td>B</td>\n",
       "      <td>84.554656</td>\n",
       "    </tr>\n",
       "    <tr>\n",
       "      <th>20</th>\n",
       "      <td>11</td>\n",
       "      <td>A</td>\n",
       "      <td>140.499268</td>\n",
       "    </tr>\n",
       "    <tr>\n",
       "      <th>21</th>\n",
       "      <td>11</td>\n",
       "      <td>B</td>\n",
       "      <td>114.616791</td>\n",
       "    </tr>\n",
       "    <tr>\n",
       "      <th>22</th>\n",
       "      <td>12</td>\n",
       "      <td>A</td>\n",
       "      <td>51.411743</td>\n",
       "    </tr>\n",
       "    <tr>\n",
       "      <th>23</th>\n",
       "      <td>12</td>\n",
       "      <td>B</td>\n",
       "      <td>37.793518</td>\n",
       "    </tr>\n",
       "    <tr>\n",
       "      <th>24</th>\n",
       "      <td>13</td>\n",
       "      <td>A</td>\n",
       "      <td>64.362793</td>\n",
       "    </tr>\n",
       "    <tr>\n",
       "      <th>25</th>\n",
       "      <td>13</td>\n",
       "      <td>B</td>\n",
       "      <td>49.410217</td>\n",
       "    </tr>\n",
       "    <tr>\n",
       "      <th>26</th>\n",
       "      <td>14</td>\n",
       "      <td>A</td>\n",
       "      <td>170.110077</td>\n",
       "    </tr>\n",
       "    <tr>\n",
       "      <th>27</th>\n",
       "      <td>14</td>\n",
       "      <td>B</td>\n",
       "      <td>212.377595</td>\n",
       "    </tr>\n",
       "    <tr>\n",
       "      <th>28</th>\n",
       "      <td>15</td>\n",
       "      <td>A</td>\n",
       "      <td>695.020050</td>\n",
       "    </tr>\n",
       "    <tr>\n",
       "      <th>29</th>\n",
       "      <td>15</td>\n",
       "      <td>B</td>\n",
       "      <td>353.524413</td>\n",
       "    </tr>\n",
       "    <tr>\n",
       "      <th>30</th>\n",
       "      <td>16</td>\n",
       "      <td>A</td>\n",
       "      <td>117.128510</td>\n",
       "    </tr>\n",
       "    <tr>\n",
       "      <th>31</th>\n",
       "      <td>16</td>\n",
       "      <td>B</td>\n",
       "      <td>110.162414</td>\n",
       "    </tr>\n",
       "    <tr>\n",
       "      <th>32</th>\n",
       "      <td>17</td>\n",
       "      <td>A</td>\n",
       "      <td>171.091217</td>\n",
       "    </tr>\n",
       "    <tr>\n",
       "      <th>33</th>\n",
       "      <td>17</td>\n",
       "      <td>B</td>\n",
       "      <td>98.820435</td>\n",
       "    </tr>\n",
       "    <tr>\n",
       "      <th>34</th>\n",
       "      <td>18</td>\n",
       "      <td>A</td>\n",
       "      <td>126.782928</td>\n",
       "    </tr>\n",
       "    <tr>\n",
       "      <th>35</th>\n",
       "      <td>18</td>\n",
       "      <td>B</td>\n",
       "      <td>104.511047</td>\n",
       "    </tr>\n",
       "    <tr>\n",
       "      <th>36</th>\n",
       "      <td>19</td>\n",
       "      <td>A</td>\n",
       "      <td>134.494690</td>\n",
       "    </tr>\n",
       "    <tr>\n",
       "      <th>37</th>\n",
       "      <td>19</td>\n",
       "      <td>B</td>\n",
       "      <td>103.608398</td>\n",
       "    </tr>\n",
       "    <tr>\n",
       "      <th>38</th>\n",
       "      <td>20</td>\n",
       "      <td>A</td>\n",
       "      <td>185.494354</td>\n",
       "    </tr>\n",
       "    <tr>\n",
       "      <th>39</th>\n",
       "      <td>20</td>\n",
       "      <td>B</td>\n",
       "      <td>136.535461</td>\n",
       "    </tr>\n",
       "    <tr>\n",
       "      <th>40</th>\n",
       "      <td>21</td>\n",
       "      <td>A</td>\n",
       "      <td>146.660828</td>\n",
       "    </tr>\n",
       "    <tr>\n",
       "      <th>41</th>\n",
       "      <td>21</td>\n",
       "      <td>B</td>\n",
       "      <td>92.364532</td>\n",
       "    </tr>\n",
       "    <tr>\n",
       "      <th>42</th>\n",
       "      <td>22</td>\n",
       "      <td>A</td>\n",
       "      <td>110.515625</td>\n",
       "    </tr>\n",
       "    <tr>\n",
       "      <th>43</th>\n",
       "      <td>22</td>\n",
       "      <td>B</td>\n",
       "      <td>65.618652</td>\n",
       "    </tr>\n",
       "    <tr>\n",
       "      <th>44</th>\n",
       "      <td>23</td>\n",
       "      <td>A</td>\n",
       "      <td>133.121093</td>\n",
       "    </tr>\n",
       "    <tr>\n",
       "      <th>45</th>\n",
       "      <td>23</td>\n",
       "      <td>B</td>\n",
       "      <td>91.226410</td>\n",
       "    </tr>\n",
       "    <tr>\n",
       "      <th>46</th>\n",
       "      <td>24</td>\n",
       "      <td>A</td>\n",
       "      <td>119.777588</td>\n",
       "    </tr>\n",
       "    <tr>\n",
       "      <th>47</th>\n",
       "      <td>24</td>\n",
       "      <td>B</td>\n",
       "      <td>103.294434</td>\n",
       "    </tr>\n",
       "    <tr>\n",
       "      <th>48</th>\n",
       "      <td>25</td>\n",
       "      <td>A</td>\n",
       "      <td>132.198822</td>\n",
       "    </tr>\n",
       "    <tr>\n",
       "      <th>49</th>\n",
       "      <td>25</td>\n",
       "      <td>B</td>\n",
       "      <td>86.752411</td>\n",
       "    </tr>\n",
       "    <tr>\n",
       "      <th>50</th>\n",
       "      <td>26</td>\n",
       "      <td>A</td>\n",
       "      <td>77.961395</td>\n",
       "    </tr>\n",
       "    <tr>\n",
       "      <th>51</th>\n",
       "      <td>26</td>\n",
       "      <td>B</td>\n",
       "      <td>54.551392</td>\n",
       "    </tr>\n",
       "    <tr>\n",
       "      <th>52</th>\n",
       "      <td>27</td>\n",
       "      <td>A</td>\n",
       "      <td>227.055450</td>\n",
       "    </tr>\n",
       "    <tr>\n",
       "      <th>53</th>\n",
       "      <td>27</td>\n",
       "      <td>B</td>\n",
       "      <td>140.950592</td>\n",
       "    </tr>\n",
       "  </tbody>\n",
       "</table>\n",
       "</div>"
      ],
      "text/plain": [
       "    Participant ID Trial ID    Duration\n",
       "0                1        A  168.383270\n",
       "1                1        B  113.439422\n",
       "2                2        A  117.050019\n",
       "3                2        B  114.086975\n",
       "4                3        A  186.043793\n",
       "5                3        B  127.214630\n",
       "6                4        A   60.143890\n",
       "7                4        B   55.689514\n",
       "8                5        A   85.594666\n",
       "9                5        B   64.048828\n",
       "10               6        A  260.787079\n",
       "11               6        B  237.651764\n",
       "12               7        A  154.470702\n",
       "13               7        B  124.938385\n",
       "14               8        A  134.533935\n",
       "15               8        B  149.309906\n",
       "16               9        A  362.001465\n",
       "17               9        B  272.070160\n",
       "18              10        A  116.225860\n",
       "19              10        B   84.554656\n",
       "20              11        A  140.499268\n",
       "21              11        B  114.616791\n",
       "22              12        A   51.411743\n",
       "23              12        B   37.793518\n",
       "24              13        A   64.362793\n",
       "25              13        B   49.410217\n",
       "26              14        A  170.110077\n",
       "27              14        B  212.377595\n",
       "28              15        A  695.020050\n",
       "29              15        B  353.524413\n",
       "30              16        A  117.128510\n",
       "31              16        B  110.162414\n",
       "32              17        A  171.091217\n",
       "33              17        B   98.820435\n",
       "34              18        A  126.782928\n",
       "35              18        B  104.511047\n",
       "36              19        A  134.494690\n",
       "37              19        B  103.608398\n",
       "38              20        A  185.494354\n",
       "39              20        B  136.535461\n",
       "40              21        A  146.660828\n",
       "41              21        B   92.364532\n",
       "42              22        A  110.515625\n",
       "43              22        B   65.618652\n",
       "44              23        A  133.121093\n",
       "45              23        B   91.226410\n",
       "46              24        A  119.777588\n",
       "47              24        B  103.294434\n",
       "48              25        A  132.198822\n",
       "49              25        B   86.752411\n",
       "50              26        A   77.961395\n",
       "51              26        B   54.551392\n",
       "52              27        A  227.055450\n",
       "53              27        B  140.950592"
      ]
     },
     "execution_count": 88,
     "metadata": {},
     "output_type": "execute_result"
    }
   ],
   "source": [
    "cir_df = pd.read_csv(\"circuit_trials.csv\")\n",
    "cir_df"
   ]
  },
  {
   "cell_type": "code",
   "execution_count": 89,
   "metadata": {},
   "outputs": [
    {
     "data": {
      "text/plain": [
       "0     168.383270\n",
       "2     117.050019\n",
       "4     186.043793\n",
       "6      60.143890\n",
       "8      85.594666\n",
       "10    260.787079\n",
       "12    154.470702\n",
       "14    134.533935\n",
       "16    362.001465\n",
       "18    116.225860\n",
       "20    140.499268\n",
       "22     51.411743\n",
       "24     64.362793\n",
       "26    170.110077\n",
       "28    695.020050\n",
       "30    117.128510\n",
       "32    171.091217\n",
       "34    126.782928\n",
       "36    134.494690\n",
       "38    185.494354\n",
       "40    146.660828\n",
       "42    110.515625\n",
       "44    133.121093\n",
       "46    119.777588\n",
       "48    132.198822\n",
       "50     77.961395\n",
       "52    227.055450\n",
       "Name: Duration, dtype: float64"
      ]
     },
     "execution_count": 89,
     "metadata": {},
     "output_type": "execute_result"
    }
   ],
   "source": [
    "group_a = cir_df[cir_df[\"Trial ID\"] == \"A\"][\"Duration\"]\n",
    "group_a"
   ]
  },
  {
   "cell_type": "code",
   "execution_count": 90,
   "metadata": {},
   "outputs": [
    {
     "data": {
      "text/plain": [
       "1     113.439422\n",
       "3     114.086975\n",
       "5     127.214630\n",
       "7      55.689514\n",
       "9      64.048828\n",
       "11    237.651764\n",
       "13    124.938385\n",
       "15    149.309906\n",
       "17    272.070160\n",
       "19     84.554656\n",
       "21    114.616791\n",
       "23     37.793518\n",
       "25     49.410217\n",
       "27    212.377595\n",
       "29    353.524413\n",
       "31    110.162414\n",
       "33     98.820435\n",
       "35    104.511047\n",
       "37    103.608398\n",
       "39    136.535461\n",
       "41     92.364532\n",
       "43     65.618652\n",
       "45     91.226410\n",
       "47    103.294434\n",
       "49     86.752411\n",
       "51     54.551392\n",
       "53    140.950592\n",
       "Name: Duration, dtype: float64"
      ]
     },
     "execution_count": 90,
     "metadata": {},
     "output_type": "execute_result"
    }
   ],
   "source": [
    "group_b = cir_df[cir_df[\"Trial ID\"] == \"B\"][\"Duration\"]\n",
    "group_b"
   ]
  },
  {
   "cell_type": "markdown",
   "metadata": {},
   "source": [
    "### Perform statistic calculation\n",
    "1. Group A"
   ]
  },
  {
   "cell_type": "code",
   "execution_count": 91,
   "metadata": {},
   "outputs": [
    {
     "name": "stdout",
     "output_type": "stream",
     "text": [
      "Group A sample mean is 164.77485593962967\n",
      "Group A standard deviation is 124.04113247599149\n",
      "Group A number of sample is 27\n"
     ]
    }
   ],
   "source": [
    "n_a = len(group_a)\n",
    "a_std = np.std(group_a, ddof=1)\n",
    "a_mean = np.mean(group_a)\n",
    "\n",
    "print(\"Group A sample mean is\", a_mean)\n",
    "print(\"Group A standard deviation is\", a_std)\n",
    "print(\"Group A number of sample is\", n_a)"
   ]
  },
  {
   "cell_type": "markdown",
   "metadata": {},
   "source": [
    "2. Group B"
   ]
  },
  {
   "cell_type": "code",
   "execution_count": 92,
   "metadata": {},
   "outputs": [
    {
     "name": "stdout",
     "output_type": "stream",
     "text": [
      "Group B sample mean is 122.18973897185187\n",
      "Group B standard deviation is 71.57416830601035\n",
      "Group B number of sample is 27\n"
     ]
    }
   ],
   "source": [
    "n_b = len(group_b)\n",
    "b_std = np.std(group_b, ddof=1)\n",
    "b_mean = np.mean(group_b)\n",
    "\n",
    "print(\"Group B sample mean is\", b_mean)\n",
    "print(\"Group B standard deviation is\", b_std)\n",
    "print(\"Group B number of sample is\", n_b)"
   ]
  },
  {
   "cell_type": "markdown",
   "metadata": {},
   "source": [
    "### Hypothesis testing: two-sample, one-tailed dependent test\n",
    "1. State the null and alternative hypothesis\n",
    "* $H_0$: $\\mu_{B} \\geq \\mu_{A}$\n",
    "* $H_1$: $\\mu_{B} < \\mu_{A}$\n",
    "\n",
    "2. Select the significance level\n",
    "* $\\alpha$ = 0.01\n",
    "\n",
    "3. Select the appropriate test statistic\n",
    "$$t = \\frac {\\overline {d}}{s_{\\overline {d}}}$$\n",
    "\n",
    "$$\\text {where } \\overline {d} = \\frac{\\sum {d}}{n}, s_{\\overline {d}} = \\frac {s_d}{\\sqrt {n}}, s_d = \\sqrt {\\frac {\\sum {(d - \\overline {d})^2}}{n - 1}}$$ \n",
    "\n",
    "* $t = \\text {t-score}$\n",
    "* $\\overline{d} = \\text {Mean difference}$\n",
    "* $s_{\\overline {d}} = \\text {Standard error of the mean difference}$\n",
    "* $s_d = \\text {Standard deviation of differences}$\n",
    "* $n = \\text {Number of sample}$\n",
    "\n",
    "4. Formulate decision rule\n",
    "* $df = n_{A} + n_{B} - 2 = 27 + 27 - 2 = 52$\n",
    "* Critical value: $t_{critical} = 2.4007$\n",
    "* Since $H_1$: $\\mu_{B} < \\mu_{A}$, we are dealing with left-tailed test. The decision rule is as follow:\n",
    "    * If $t_{computed} < -2.4007$, then *Reject $H_0$*\n",
    "    * If $t_{computed} \\geq -2.4007$, then *Do no reject $H_0$*\n",
    "\n",
    "5. Make the decision\n",
    "* Compute $t_{computed}$ and $p_{value}$"
   ]
  },
  {
   "cell_type": "code",
   "execution_count": 93,
   "metadata": {},
   "outputs": [
    {
     "name": "stdout",
     "output_type": "stream",
     "text": [
      "t_computed is: -3.336688368513952\n",
      "p_value is: 0.0012809826011843611\n",
      "Reject H0\n"
     ]
    }
   ],
   "source": [
    "t_computed, pval = stats.ttest_rel(group_b, group_a)\n",
    "print(\"t_computed is:\", t_computed)\n",
    "print(\"p_value is:\", pval / 2)\n",
    "\n",
    "alpha = 0.01\n",
    "t_critical = 2.4007\n",
    "if (pval / 2) < alpha and t_computed < -t_critical:\n",
    "    print(\"Reject H0\")\n",
    "elif (pval / 2) > alpha and t_computed >= -t_critical:\n",
    "    print(\"Do not reject H0\")\n",
    "else:\n",
    "    print(\"Conflicting result\")"
   ]
  },
  {
   "cell_type": "markdown",
   "metadata": {},
   "source": [
    "* Write a conclusion\n",
    "    * At the 0.01 significance, we can conclude that the mean circuit duration for subjects at trial B (after receiving therapy) less than it was at trial A"
   ]
  },
  {
   "cell_type": "markdown",
   "metadata": {},
   "source": [
    "## GU Website Daily Visitor Dataset\n",
    "### Description\n",
    "The dataset contains information about daily number of new or returning users to the GU website.\n",
    "\n",
    "The attributes of this dataset includes:\n",
    "* `Date`\n",
    "* `New Visitor`\n",
    "* `Returning visitor`"
   ]
  },
  {
   "cell_type": "code",
   "execution_count": 94,
   "metadata": {},
   "outputs": [
    {
     "data": {
      "text/html": [
       "<div>\n",
       "<style scoped>\n",
       "    .dataframe tbody tr th:only-of-type {\n",
       "        vertical-align: middle;\n",
       "    }\n",
       "\n",
       "    .dataframe tbody tr th {\n",
       "        vertical-align: top;\n",
       "    }\n",
       "\n",
       "    .dataframe thead th {\n",
       "        text-align: right;\n",
       "    }\n",
       "</style>\n",
       "<table border=\"1\" class=\"dataframe\">\n",
       "  <thead>\n",
       "    <tr style=\"text-align: right;\">\n",
       "      <th></th>\n",
       "      <th>New Visitor</th>\n",
       "      <th>Returning Visitor</th>\n",
       "    </tr>\n",
       "    <tr>\n",
       "      <th>Date</th>\n",
       "      <th></th>\n",
       "      <th></th>\n",
       "    </tr>\n",
       "  </thead>\n",
       "  <tbody>\n",
       "    <tr>\n",
       "      <th>2018-10-01</th>\n",
       "      <td>4040</td>\n",
       "      <td>6894</td>\n",
       "    </tr>\n",
       "    <tr>\n",
       "      <th>2018-10-02</th>\n",
       "      <td>4097</td>\n",
       "      <td>6385</td>\n",
       "    </tr>\n",
       "    <tr>\n",
       "      <th>2018-10-03</th>\n",
       "      <td>4220</td>\n",
       "      <td>6567</td>\n",
       "    </tr>\n",
       "    <tr>\n",
       "      <th>2018-10-04</th>\n",
       "      <td>3819</td>\n",
       "      <td>6086</td>\n",
       "    </tr>\n",
       "    <tr>\n",
       "      <th>2018-10-05</th>\n",
       "      <td>3514</td>\n",
       "      <td>5090</td>\n",
       "    </tr>\n",
       "    <tr>\n",
       "      <th>...</th>\n",
       "      <td>...</td>\n",
       "      <td>...</td>\n",
       "    </tr>\n",
       "    <tr>\n",
       "      <th>2022-09-26</th>\n",
       "      <td>4776</td>\n",
       "      <td>5802</td>\n",
       "    </tr>\n",
       "    <tr>\n",
       "      <th>2022-09-27</th>\n",
       "      <td>4759</td>\n",
       "      <td>5745</td>\n",
       "    </tr>\n",
       "    <tr>\n",
       "      <th>2022-09-28</th>\n",
       "      <td>4935</td>\n",
       "      <td>5945</td>\n",
       "    </tr>\n",
       "    <tr>\n",
       "      <th>2022-09-29</th>\n",
       "      <td>4734</td>\n",
       "      <td>5462</td>\n",
       "    </tr>\n",
       "    <tr>\n",
       "      <th>2022-09-30</th>\n",
       "      <td>4929</td>\n",
       "      <td>4793</td>\n",
       "    </tr>\n",
       "  </tbody>\n",
       "</table>\n",
       "<p>1461 rows × 2 columns</p>\n",
       "</div>"
      ],
      "text/plain": [
       "            New Visitor  Returning Visitor\n",
       "Date                                      \n",
       "2018-10-01         4040               6894\n",
       "2018-10-02         4097               6385\n",
       "2018-10-03         4220               6567\n",
       "2018-10-04         3819               6086\n",
       "2018-10-05         3514               5090\n",
       "...                 ...                ...\n",
       "2022-09-26         4776               5802\n",
       "2022-09-27         4759               5745\n",
       "2022-09-28         4935               5945\n",
       "2022-09-29         4734               5462\n",
       "2022-09-30         4929               4793\n",
       "\n",
       "[1461 rows x 2 columns]"
      ]
     },
     "execution_count": 94,
     "metadata": {},
     "output_type": "execute_result"
    }
   ],
   "source": [
    "web_df = pd.read_csv(\"GU_website_daily_visitors_2018-2022.csv\", index_col=0)\n",
    "web_df.index = pd.to_datetime(web_df.index)\n",
    "\n",
    "web_df"
   ]
  },
  {
   "cell_type": "markdown",
   "metadata": {},
   "source": [
    "Gonzaga is big with their men and women basketball teams. Each year, Gonzaga competes in the March Madness tournament, which usually lasts from mid-March to early April. \n",
    "\n",
    "In 2021, the Gonzaga men basketball team advanced into the final round, and only lost to Baylor. The women team lost to Belmont at 59-64. In 2022, the men team made it to the Sweet 16 and fell short of 6 points to Arkansas. The women team also made their way to the second round and lost Louisville at 59-68.\n",
    "\n",
    "March Madness is a big event to the Gonzaga community and basketball lovers as well. It surely attracts a number of viewers to visit their website. With that, I want to know if the average new visitors to Gonzaga's website in 2022 was higher than 2021, given the hype after Gonzaga's men team advancement into the final round in 2021. \n",
    "\n",
    "I specifically filter the data from 03/01/2021 - 04/15/2021 for the 2021 group and 03/01/2022 - 04/15/2022 for the 2022 group.\n",
    "\n",
    "Since we want to know if the mean new visitors in 2022 was higher than 2021, we are performing two sample (2021 and 2022), one-tailed (we want to know if 2022 was higher, independent (We don't know if there is any duplicates in the data between two years, so we assume they are different. Thus, they are independent) test.\n",
    "\n",
    "Besides, as I mentioned we did not know if there was any duplicates in the number, I choose the level of significance at 0.05, which is a relatively relaxed one."
   ]
  },
  {
   "cell_type": "code",
   "execution_count": 95,
   "metadata": {},
   "outputs": [
    {
     "data": {
      "text/plain": [
       "Date\n",
       "2021-03-01      5364\n",
       "2021-03-02      5504\n",
       "2021-03-03      4957\n",
       "2021-03-04      5566\n",
       "2021-03-05      4919\n",
       "2021-03-06      4070\n",
       "2021-03-07      3814\n",
       "2021-03-08      6899\n",
       "2021-03-09      7354\n",
       "2021-03-10      7933\n",
       "2021-03-11      5970\n",
       "2021-03-12      4884\n",
       "2021-03-13      3931\n",
       "2021-03-14      6643\n",
       "2021-03-15      8588\n",
       "2021-03-16      6911\n",
       "2021-03-17      8809\n",
       "2021-03-18     10385\n",
       "2021-03-19     10660\n",
       "2021-03-20     19771\n",
       "2021-03-21      9814\n",
       "2021-03-22     26218\n",
       "2021-03-23     10995\n",
       "2021-03-24      8641\n",
       "2021-03-25      6778\n",
       "2021-03-26      7307\n",
       "2021-03-27      9431\n",
       "2021-03-28     40412\n",
       "2021-03-29     12928\n",
       "2021-03-30     51997\n",
       "2021-03-31     20198\n",
       "2021-04-01     11637\n",
       "2021-04-02     10481\n",
       "2021-04-03    111619\n",
       "2021-04-04     52404\n",
       "2021-04-05    117050\n",
       "2021-04-06     32176\n",
       "2021-04-07      9688\n",
       "2021-04-08      6599\n",
       "2021-04-09      5804\n",
       "2021-04-10      4703\n",
       "2021-04-11      4036\n",
       "2021-04-12      5813\n",
       "2021-04-13      5261\n",
       "2021-04-14      5340\n",
       "2021-04-15      5699\n",
       "Name: New Visitor, dtype: int64"
      ]
     },
     "execution_count": 95,
     "metadata": {},
     "output_type": "execute_result"
    }
   ],
   "source": [
    "group_2021 = web_df[(web_df.index >= \"2021-03-01\") & (web_df.index <= \"2021-04-15\")][\"New Visitor\"]\n",
    "group_2021"
   ]
  },
  {
   "cell_type": "code",
   "execution_count": 96,
   "metadata": {},
   "outputs": [
    {
     "data": {
      "text/plain": [
       "Date\n",
       "2022-03-01     5416\n",
       "2022-03-02     5503\n",
       "2022-03-03     9139\n",
       "2022-03-04     5371\n",
       "2022-03-05     4190\n",
       "2022-03-06     4038\n",
       "2022-03-07     8144\n",
       "2022-03-08     9686\n",
       "2022-03-09     5391\n",
       "2022-03-10     5407\n",
       "2022-03-11     4820\n",
       "2022-03-12     4605\n",
       "2022-03-13     7033\n",
       "2022-03-14     9582\n",
       "2022-03-15     9394\n",
       "2022-03-16    10275\n",
       "2022-03-17    24047\n",
       "2022-03-18    13074\n",
       "2022-03-19    36888\n",
       "2022-03-20    12017\n",
       "2022-03-21     8962\n",
       "2022-03-22     7126\n",
       "2022-03-23     7129\n",
       "2022-03-24    47771\n",
       "2022-03-25    11070\n",
       "2022-03-26     5555\n",
       "2022-03-27     4825\n",
       "2022-03-28     5401\n",
       "2022-03-29     5175\n",
       "2022-03-30     4855\n",
       "2022-03-31     5505\n",
       "2022-04-01     4592\n",
       "2022-04-02     4410\n",
       "2022-04-03     3772\n",
       "2022-04-04     5252\n",
       "2022-04-05     5077\n",
       "2022-04-06     5223\n",
       "2022-04-07     4493\n",
       "2022-04-08     4311\n",
       "2022-04-09     3464\n",
       "2022-04-10     3653\n",
       "2022-04-11     4953\n",
       "2022-04-12     4916\n",
       "2022-04-13     5253\n",
       "2022-04-14     4609\n",
       "2022-04-15     3439\n",
       "Name: New Visitor, dtype: int64"
      ]
     },
     "execution_count": 96,
     "metadata": {},
     "output_type": "execute_result"
    }
   ],
   "source": [
    "group_2022 = web_df[(web_df.index >= \"2022-03-01\") & (web_df.index <= \"2022-04-15\")][\"New Visitor\"]\n",
    "group_2022"
   ]
  },
  {
   "cell_type": "markdown",
   "metadata": {},
   "source": [
    "### Perform statistic calculation\n",
    "1. 2021 Group"
   ]
  },
  {
   "cell_type": "code",
   "execution_count": 97,
   "metadata": {},
   "outputs": [
    {
     "name": "stdout",
     "output_type": "stream",
     "text": [
      "2021 group sample mean is 15999.152173913044\n",
      "2021 group standard deviation is 24077.654244333313\n",
      "2021 group number of sample is 46\n"
     ]
    }
   ],
   "source": [
    "n_2021 = len(group_2021)\n",
    "std_2021 = np.std(group_2021, ddof=1)\n",
    "mean_2021 = np.mean(group_2021)\n",
    "\n",
    "print(\"2021 group sample mean is\", mean_2021)\n",
    "print(\"2021 group standard deviation is\", std_2021)\n",
    "print(\"2021 group number of sample is\", n_2021)"
   ]
  },
  {
   "cell_type": "markdown",
   "metadata": {},
   "source": [
    "2. 2022 Group"
   ]
  },
  {
   "cell_type": "code",
   "execution_count": 98,
   "metadata": {},
   "outputs": [
    {
     "name": "stdout",
     "output_type": "stream",
     "text": [
      "2022 group sample mean is 8148.065217391304\n",
      "2022 group standard deviation is 8250.983869689384\n",
      "2022 group number of sample is 46\n"
     ]
    }
   ],
   "source": [
    "n_2022 = len(group_2022)\n",
    "std_2022 = np.std(group_2022, ddof=1)\n",
    "mean_2022 = np.mean(group_2022)\n",
    "\n",
    "print(\"2022 group sample mean is\", mean_2022)\n",
    "print(\"2022 group standard deviation is\", std_2022)\n",
    "print(\"2022 group number of sample is\", n_2022)"
   ]
  },
  {
   "cell_type": "markdown",
   "metadata": {},
   "source": [
    "### Hypothesis testing: two-sample, one-tailed independent test\n",
    "1. State the null and alternative hypothesis\n",
    "* $H_0$: $\\mu_{2022} \\leq \\mu_{2021}$\n",
    "* $H_1$: $\\mu_{2022} > \\mu_{2021}$\n",
    "\n",
    "2. Select the significance level\n",
    "* $\\alpha$ = 0.05\n",
    "\n",
    "3. Select the appropriate test statistic\n",
    "$$t = \\frac {\\overline {X_{2022}} - \\overline {X_{2021}}}{\\sqrt {s_p^2 (\\frac {1}{n_{2022}} + \\frac {1}{n_{2021}})}}$$\n",
    "\n",
    "$$\\text {where } s_p^2 = \\frac{(n_{2021} - 1)s_{2021}^2 + (n_{2022} - 1)s_{2022}^2}{n_{2021} + n_{2022} - 2}$$ \n",
    "\n",
    "* $t = \\text {t-score}$\n",
    "* $\\overline{X} = \\text {Sample mean}$\n",
    "* $s_p^2 = \\text {Pooled variance}$\n",
    "* $s = \\text {Standard deviation}$\n",
    "* $n = \\text {Number of sample}$\n",
    "\n",
    "4. Formulate decision rule\n",
    "* $df = n_{2021} + n_{2022} - 2 = 46 + 46 - 2 = 90$\n",
    "* Critical value: $t_{critical} = 1.6625$\n",
    "* Since $H_1$: $\\mu_{re} > \\mu_{ip}$, we are dealing with right-tailed test. The decision rule is as follow:\n",
    "    * If $t_{computed} > 1.6625$, then *Reject $H_0$*\n",
    "    * If $t_{computed} \\leq 1.6625$, then *Do no reject $H_0$*\n",
    "\n",
    "5. Make the decision\n",
    "* Compute $t_{computed}$ and $p_{value}$"
   ]
  },
  {
   "cell_type": "code",
   "execution_count": 99,
   "metadata": {},
   "outputs": [
    {
     "name": "stdout",
     "output_type": "stream",
     "text": [
      "t_computed is: -2.0921082521275465\n",
      "p_value is: 0.01962246999181286\n",
      "Do not reject H0\n"
     ]
    }
   ],
   "source": [
    "t_computed, pval = stats.ttest_ind(group_2022, group_2021)\n",
    "print(\"t_computed is:\", t_computed)\n",
    "print(\"p_value is:\", pval / 2)\n",
    "\n",
    "alpha = 0.005\n",
    "t_critical = 1.6625\n",
    "if (pval / 2) < alpha and t_computed > t_critical:\n",
    "    print(\"Reject H0\")\n",
    "elif (pval / 2) > alpha and t_computed <= t_critical:\n",
    "    print(\"Do not reject H0\")\n",
    "else:\n",
    "    print(\"Conflicting result\")"
   ]
  },
  {
   "cell_type": "markdown",
   "metadata": {},
   "source": [
    "* Write a conclusion\n",
    "    * At the 0.05 significance, we can conclude that the mean new visitors to Gonzaga's website during March Madness in 2022 is not higher than 2021."
   ]
  },
  {
   "cell_type": "markdown",
   "metadata": {},
   "source": [
    "## Bonus part: Bar chart visualization"
   ]
  },
  {
   "cell_type": "code",
   "execution_count": 100,
   "metadata": {},
   "outputs": [
    {
     "data": {
      "text/plain": [
       "<Figure size 432x288 with 0 Axes>"
      ]
     },
     "metadata": {},
     "output_type": "display_data"
    },
    {
     "data": {
      "image/png": "[encoded data removed]",
      "text/plain": [
       "<Figure size 1080x576 with 1 Axes>"
      ]
     },
     "metadata": {},
     "output_type": "display_data"
    }
   ],
   "source": [
    "# Group the data by Month-Year format\n",
    "web_df.reset_index(inplace=True)\n",
    "grouped_by_month_year = web_df.groupby(pd.Grouper(key=\"Date\", freq=\"M\")).sum()\n",
    "grouped_by_month_year.index = grouped_by_month_year.index.strftime(\"%Y-%m\")\n",
    "grouped_by_month_year.reset_index(inplace=True)\n",
    "\n",
    "# Plot the chart\n",
    "plt.figure()\n",
    "\n",
    "x = np.arange(len(grouped_by_month_year))  # the label locations\n",
    "width = 0.4 # the width of the bars\n",
    "\n",
    "fig, ax = plt.subplots()\n",
    "new_vist = ax.bar(x - width/2, grouped_by_month_year[\"New Visitor\"], width,label='New Visitor')\n",
    "return_visit = ax.bar(x + width/2, grouped_by_month_year[\"Returning Visitor\"], width, label='Returning Visitor')\n",
    "\n",
    "fig.set_figwidth(15)\n",
    "fig.set_figheight(8)\n",
    "ax.set_ylabel(\"GU Website Visitors\")\n",
    "ax.set_xlabel(\"Aggregated Month\")\n",
    "\n",
    "ax.set_xticks(x, grouped_by_month_year[\"Date\"], rotation=45, ha=\"right\")\n",
    "ax.legend(title=\"User Type\")\n",
    "\n",
    "fig.tight_layout()\n",
    "\n",
    "plt.show()"
   ]
  }
 ],
 "metadata": {
  "kernelspec": {
   "display_name": "Python 3.9.12 ('base')",
   "language": "python",
   "name": "python3"
  },
  "language_info": {
   "codemirror_mode": {
    "name": "ipython",
    "version": 3
   },
   "file_extension": ".py",
   "mimetype": "text/x-python",
   "name": "python",
   "nbconvert_exporter": "python",
   "pygments_lexer": "ipython3",
   "version": "3.9.12"
  },
  "orig_nbformat": 4,
  "vscode": {
   "interpreter": {
    "hash": "5ccfa51b6a2c575f9ec4b5f633399d96d9a08ae2d3de4a2b338c15ea2dbb5975"
   }
  }
 },
 "nbformat": 4,
 "nbformat_minor": 2
}
