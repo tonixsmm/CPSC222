{
 "cells": [
  {
   "cell_type": "markdown",
   "metadata": {},
   "source": [
    "# CPSC 122 Git Commit Statistics\n",
    "Tony Nguyen\n",
    "\n",
    "CPSC 222 01\n",
    "\n",
    "11/22/2022\n",
    "\n",
    "I attempted the bonus question"
   ]
  },
  {
   "cell_type": "code",
   "execution_count": 27,
   "metadata": {},
   "outputs": [],
   "source": [
    "import numpy as np\n",
    "import pandas as pd\n",
    "from scipy import stats\n",
    "import matplotlib.pyplot as plt"
   ]
  },
  {
   "cell_type": "markdown",
   "metadata": {},
   "source": [
    "### Description\n",
    "S1 and S2 are the total number of Git commits each student made on their programming assignments (PA3-PA9) in CPSC 122-01 and CPSC 122-02 in Spring 2020\n",
    "\n",
    "S1 group is the control group, while S2 is the experiment group. Commit is summed per students to ensure independency. The S2 students used a fully automated gamification software tool we designed that encouraged them to complete assignments early"
   ]
  },
  {
   "cell_type": "code",
   "execution_count": 28,
   "metadata": {},
   "outputs": [],
   "source": [
    "s1 = [4, 44, 21, 45, 3, 43, 19, 36, 68, 63, 24, 39, 42, 45, 25, 20, 24, 31, 2, 25, 30, 31, 24, 16, 44]\n",
    "s2 = [10, 22, 40, 58, 49, 64, 26, 57, 139, 49, 41, 66, 12, 40, 20, 67, 106, 4, 46, 4, 34, 12, 48, 11, 62]\n",
    "s2_series = pd.Series(s2)"
   ]
  },
  {
   "cell_type": "markdown",
   "metadata": {},
   "source": [
    "### Mid value\n",
    "$$ \\frac {min + max}{2}$$\n",
    "* The middle point of S2, calculates by taking the minimum value, add up with the maximum value, and divide by 2. The mid value of S2 is 71.5"
   ]
  },
  {
   "cell_type": "code",
   "execution_count": 29,
   "metadata": {},
   "outputs": [
    {
     "name": "stdout",
     "output_type": "stream",
     "text": [
      "Mid value of S2 is 71.5\n"
     ]
    }
   ],
   "source": [
    "s2_mid_val = (s2_series.min() + s2_series.max()) / 2\n",
    "print(\"Mid value of S2 is\", s2_mid_val)"
   ]
  },
  {
   "cell_type": "markdown",
   "metadata": {},
   "source": [
    "### Mean\n",
    "$$ \\overline {x} = \\frac {\\sum {x}}{n}$$\n",
    "* The average value of S2, calculates by taking the sum of all values and dividing by the number of sample. The mean of S2 is 43.48\n",
    "* $\\overline {x}$ = Sample mean\n",
    "* $n$: Number of sample"
   ]
  },
  {
   "cell_type": "code",
   "execution_count": 30,
   "metadata": {},
   "outputs": [
    {
     "name": "stdout",
     "output_type": "stream",
     "text": [
      "Mean of S2 is 43.48\n"
     ]
    }
   ],
   "source": [
    "sum = 0\n",
    "for item in range(len(s2_series)):\n",
    "    sum += s2_series[item]\n",
    "s2_mean = sum / len(s2_series)\n",
    "print(\"Mean of S2 is\", s2_mean)"
   ]
  },
  {
   "cell_type": "markdown",
   "metadata": {},
   "source": [
    "### Median\n",
    "$$\\begin{cases}\n",
    "    (\\frac{n + 1}{2})^\\text{th} \\text{term}, & \\text{if n is odd} \\\\ \n",
    "    \\frac{(\\frac{n}{2})^\\text{th} \\text{term} + (\\frac{n}{2} + 1)^\\text{th} \\text{term}}{2}, & \\text{if n is even}\n",
    "\\end{cases}\n",
    "\\\\\n",
    "\\text{}\\\\\n",
    "$$\n",
    "* $n = \\text{number of values in data set}$\n",
    "* The length of S2 in this case is an odd number. So, to find the median of S2, we use the upper case, which is to find the 13th term of S2. The median of S2 is 41\n",
    "\n",
    "Latex case definition source [here](https://kogler.wordpress.com/2008/03/21/latex-multiline-equations-systems-and-matrices/)"
   ]
  },
  {
   "cell_type": "code",
   "execution_count": 45,
   "metadata": {},
   "outputs": [
    {
     "name": "stdout",
     "output_type": "stream",
     "text": [
      "Median of S2 is 41\n"
     ]
    }
   ],
   "source": [
    "sorted_series = s2_series.sort_values(ignore_index=True)\n",
    "n = len(sorted_series)\n",
    "\n",
    "if n % 2 != 0:\n",
    "    s2_median = sorted_series[((n + 1) / 2) - 1]\n",
    "else:\n",
    "    s2_median = (sorted_series[(n / 2) - 1] + sorted_series[((n / 2) + 1) - 1]) / 2\n",
    "print(\"Median of S2 is\", s2_median)"
   ]
  },
  {
   "cell_type": "markdown",
   "metadata": {},
   "source": [
    "### Mode\n",
    "* Mode is the value that appears most in the dataset. The mode of S2 are 4, 12, 40, and 49"
   ]
  },
  {
   "cell_type": "code",
   "execution_count": 44,
   "metadata": {},
   "outputs": [
    {
     "name": "stdout",
     "output_type": "stream",
     "text": [
      "Mode of S2 is/are:\n"
     ]
    },
    {
     "data": {
      "text/plain": [
       "0     4\n",
       "1    12\n",
       "2    40\n",
       "3    49\n",
       "dtype: int64"
      ]
     },
     "execution_count": 44,
     "metadata": {},
     "output_type": "execute_result"
    }
   ],
   "source": [
    "s2_mode = s2_series.mode()\n",
    "print(\"Mode of S2 is/are:\")\n",
    "s2_mode"
   ]
  },
  {
   "cell_type": "markdown",
   "metadata": {},
   "source": [
    "### Range\n",
    "$$max - min$$\n",
    "* The range is the difference between the maximum value and the minimum value. The range of S2 is 135\n"
   ]
  },
  {
   "cell_type": "code",
   "execution_count": 33,
   "metadata": {},
   "outputs": [
    {
     "name": "stdout",
     "output_type": "stream",
     "text": [
      "Range of S2 is 135\n"
     ]
    }
   ],
   "source": [
    "s2_range = s2_series.max() - s2_series.min()\n",
    "print(\"Range of S2 is\", s2_range)"
   ]
  },
  {
   "cell_type": "markdown",
   "metadata": {},
   "source": [
    "### Quartiles\n",
    "* Quartiles are three data points that divide the dataset into four quarters.\n",
    "* For S2, the first quartile, or Q1, represents the first 25% of the value, meaning there is 25% of value less than this point. Q1 of S2 is 20. \n",
    "* The second quartile, or Q2, happens to be the same as the median of the dataset, which is 41. At this point 41, there is 50% of value less than 41, and 50% of value greater than 41.\n",
    "* The third quartile, or Q3, is at 58. At this point, there is 25% of value greater than 58"
   ]
  },
  {
   "cell_type": "code",
   "execution_count": 46,
   "metadata": {},
   "outputs": [
    {
     "name": "stdout",
     "output_type": "stream",
     "text": [
      "The first quartile is 20.0\n",
      "The second quartile is 41.0\n",
      "The third quartile is 58.0\n"
     ]
    }
   ],
   "source": [
    "n = len(sorted_series)\n",
    "q1, q2, q3 = np.percentile(sorted_series, [25, 50, 75])\n",
    "print(\"The first quartile is\", q1)\n",
    "print(\"The second quartile is\", q2)\n",
    "print(\"The third quartile is\", q3)"
   ]
  },
  {
   "cell_type": "markdown",
   "metadata": {},
   "source": [
    "### Variance (sample)\n",
    "$$s^2 = \\frac{\\sum (x - \\overline{x})^2}{n - 1}\\\\$$\n",
    "\n",
    "* $s^2 = \\text {Sample variance}$\n",
    "* $x = \\text {Value of one observation}$\n",
    "* $\\overline{x} = \\text {Mean value of all observation}$\n",
    "* $n = \\text {Number of observations}$\n",
    "* Variance is the degree of spread in a data set about the mean value of that data. The larger the variance is, the more spread the data point is. The variance of S2 is 1002.177"
   ]
  },
  {
   "cell_type": "code",
   "execution_count": 35,
   "metadata": {},
   "outputs": [
    {
     "name": "stdout",
     "output_type": "stream",
     "text": [
      "Variance of S2 is 1002.1766666666667\n"
     ]
    }
   ],
   "source": [
    "num_total = 0.0\n",
    "variance = 0.0\n",
    "for i in range(len(sorted_series)):\n",
    "    num_total += pow((sorted_series[i] - s2_mean), 2)\n",
    "s2_variance = num_total / (n - 1)\n",
    "\n",
    "print(\"Variance of S2 is\", s2_variance)"
   ]
  },
  {
   "cell_type": "markdown",
   "metadata": {},
   "source": [
    "### Standard Deviation (sample)\n",
    "$$s = \\sqrt { \\frac{\\sum (x - \\overline{x})^2}{n - 1}}\\\\$$\n",
    "\n",
    "* $s = \\text {Standard deviation}$\n",
    "* $x = \\text {Value of one observation}$\n",
    "* $\\overline{x} = \\text {Mean value of all observation}$\n",
    "* $n = \\text {Number of observations}$\n",
    "* A standard deviation is a measure of how dispersed the data is in relation to the mean. Standard deviation is also the square root variance. The standard deviation of S2 is 31.657"
   ]
  },
  {
   "cell_type": "code",
   "execution_count": 36,
   "metadata": {},
   "outputs": [
    {
     "name": "stdout",
     "output_type": "stream",
     "text": [
      "Standard Deviation of S2 is 31.65717401580038\n"
     ]
    }
   ],
   "source": [
    "s2_std = np.sqrt(s2_variance)\n",
    "print(\"Standard Deviation of S2 is\", s2_std)"
   ]
  },
  {
   "cell_type": "markdown",
   "metadata": {},
   "source": [
    "### Calculate 95% Confidence Interval for the Population Mean\n",
    "$$ME = t \\frac {s}{\\sqrt{n}} $$\n",
    "\n",
    "$$CI = \\overline{X} \\pm ME$$\n",
    "\n",
    "* $ME = \\text {Margin of error}$\n",
    "* $CI = \\text {Confidence interval}$\n",
    "* $\\overline{X} = \\text {Sample mean}$\n",
    "* $t = \\text {t-score, from the t-distribition table}$\n",
    "* $s = \\text {Standard deviation}$\n",
    "* $n = \\text {Number of sample}$"
   ]
  },
  {
   "cell_type": "markdown",
   "metadata": {},
   "source": [
    "##### S1 Calculation\n",
    "\n",
    "$df = n - 1 = 25 - 1 = 24 \\text { (Degree of freedom)}$"
   ]
  },
  {
   "cell_type": "code",
   "execution_count": 37,
   "metadata": {},
   "outputs": [
    {
     "name": "stdout",
     "output_type": "stream",
     "text": [
      "S1 t-score is 2.064\n",
      "S1 sample mean is 30.72\n",
      "S1 standard deviation is 16.63209748247847\n",
      "S1 number of sample is 25\n",
      "S1 margin of error is 6.865729840767114\n",
      "We are 95% confident that the population mean for total number of Git commits each student made of their programming assignment is within (23.854270159232886, 37.585729840767115)\n"
     ]
    }
   ],
   "source": [
    "t = 2.064\n",
    "s1_mean = np.mean(s1)\n",
    "s1_std = np.std(s1, ddof=1)\n",
    "\n",
    "print(\"S1 t-score is\", t)\n",
    "print(\"S1 sample mean is\", s1_mean)\n",
    "print(\"S1 standard deviation is\", s1_std)\n",
    "print(\"S1 number of sample is\", n)\n",
    "\n",
    "s1_me = t * (s1_std / np.sqrt(n))\n",
    "print(\"S1 margin of error is\", s1_me)\n",
    "\n",
    "s1_CI = (s1_mean - s1_me, s1_mean + s1_me)\n",
    "print(\"We are 95% confident that the population mean for total number of Git commits each student made of their programming assignment is within\", s1_CI)"
   ]
  },
  {
   "cell_type": "markdown",
   "metadata": {},
   "source": [
    "##### S2 Calculation\n",
    "\n",
    "$df = n - 1 = 25 - 1 = 24 \\text { (Degree of freedom)}$"
   ]
  },
  {
   "cell_type": "code",
   "execution_count": 38,
   "metadata": {},
   "outputs": [
    {
     "name": "stdout",
     "output_type": "stream",
     "text": [
      "S2 t-score is 2.064\n",
      "S2 sample mean is 43.48\n",
      "S2 standard deviation is 31.65717401580038\n",
      "S2 number of sample is 25\n",
      "S2 margin of error is 13.068081433722398\n",
      "We are 95% confident that the population mean for total number of Git commits each student made of their programming assignment is within (30.4119185662776, 56.548081433722395)\n"
     ]
    }
   ],
   "source": [
    "t = 2.064\n",
    "print(\"S2 t-score is\", t)\n",
    "print(\"S2 sample mean is\", s2_mean)\n",
    "print(\"S2 standard deviation is\", s2_std)\n",
    "print(\"S2 number of sample is\", n)\n",
    "\n",
    "s2_me = t * (s2_std / np.sqrt(n))\n",
    "print(\"S2 margin of error is\", s2_me)\n",
    "\n",
    "s2_CI = (s2_mean - s2_me, s2_mean + s2_me)\n",
    "print(\"We are 95% confident that the population mean for total number of Git commits each student made of their programming assignment is within\", s2_CI)"
   ]
  },
  {
   "cell_type": "markdown",
   "metadata": {},
   "source": [
    "##### Confidence Intervals Plot Visualization"
   ]
  },
  {
   "cell_type": "code",
   "execution_count": 39,
   "metadata": {},
   "outputs": [
    {
     "data": {
      "image/png": "[encoded data removed]",
      "text/plain": [
       "<Figure size 432x288 with 1 Axes>"
      ]
     },
     "metadata": {
      "needs_background": "light"
     },
     "output_type": "display_data"
    }
   ],
   "source": [
    "plt.figure()\n",
    "plt.xlim([0, 2])\n",
    "\n",
    "plt.scatter([0.5, 0.5], [s1_CI[0], s1_CI[1]], label=\"S1 Confidence Interval\")\n",
    "plt.scatter(0.5, s1_mean, marker=\"x\", label=\"S1 Mean\")\n",
    "plt.plot([0.5, 0.5], s1_CI)\n",
    "\n",
    "plt.scatter([1.5, 1.5], [s2_CI[0], s2_CI[1]], color=\"orange\", label=\"S2 Confidence Interval\")\n",
    "plt.scatter(1.5, s2_mean, marker=\"x\", label=\"S2 Mean\")\n",
    "plt.plot([1.5, 1.5], s2_CI)\n",
    "\n",
    "plt.xticks([0.5, 1.5], [\"S1\", \"S2\"])\n",
    "plt.ylabel(\"Number of Git Commit\")\n",
    "plt.title(\"S1 and S2 Confidence Intervals\")\n",
    "plt.legend()\n",
    "\n",
    "plt.show()"
   ]
  },
  {
   "cell_type": "markdown",
   "metadata": {},
   "source": [
    "### S2 One-sample, One-tailed t-test of the Population Mean\n",
    "\n",
    "##### Step 1: State the null and alternative hypothesis\n",
    "* $H_0$: $\\mu \\leq 28$\n",
    "* $H_1$: $\\mu > 28$\n",
    "\n",
    "##### Step 2: Select the significance level\n",
    "* $\\alpha$ = 0.025\n",
    "\n",
    "##### Step 3: Select the appropriate test statistic\n",
    "$$t = \\frac {\\overline {x} - \\mu}{s / \\sqrt{n}}$$\n",
    "* $t = \\text {t-score}$\n",
    "* $\\overline{x} = \\text {Sample mean}$\n",
    "* $\\mu = \\text {Population mean}$\n",
    "* $s = \\text {Standard deviation}$\n",
    "* $n = \\text {Number of sample}$\n",
    "\n",
    "##### Step 4: Formulate decision rule\n",
    "* df = n - 1 = 25 - 1 = 24$\n",
    "* Critical value: $t_{critical} = 2.064$\n",
    "* Since $H_1$: $\\mu > 28$, we are dealing with right-tailed test. The decision rule is as follow:\n",
    "    * If $t_{computed} > 2.064$, then *Reject $H_0$*\n",
    "    * If $t_{computed} \\leq 2.064$, then *Do no reject $H_0$*\n",
    "\n",
    "##### Step 5: Make the decision\n",
    "1. Compute $t_{computed}$\n",
    "* $t_{computed} = \\frac {\\overline {x} - \\mu}{s / \\sqrt{n}} = \\frac {43.48 - 28}{31.66 / \\sqrt {25}} = 2.445$\n",
    "\n",
    "2. Apply the decision rule\n",
    "* Since $t_{computed}$ is 2.445, which is greater than $t_{critical}$ at 2.064, we reject $H_0$, fail to reject $H_1$, and $\\mu > 28$\n",
    "\n",
    "3. Compute $p_{value}$\n",
    "* $t_{computed} = 2.445$\n",
    "* $df = 24$\n",
    "* From the t-distribution table, our $p_{value}$ is within $0.010 < p_{value} < 0.025$, which is less than $\\alpha = 0.025$\n",
    "* Reject $H_0$, fail to reject $H_1$, and $\\mu > 28$\n",
    "\n",
    "4. Write a conclusion\n",
    "* At the 0.025 significance, we can conclude that the S2 students committed more than 28 times on average"
   ]
  },
  {
   "cell_type": "markdown",
   "metadata": {},
   "source": [
    "##### Checking with SciPy"
   ]
  },
  {
   "cell_type": "code",
   "execution_count": 40,
   "metadata": {},
   "outputs": [
    {
     "name": "stdout",
     "output_type": "stream",
     "text": [
      "t_computed is: 2.444943441931012\n",
      "p_value is: 0.011102335949256276\n",
      "Reject H0\n"
     ]
    }
   ],
   "source": [
    "t_computed, pval = stats.ttest_1samp(s2, 28)\n",
    "print(\"t_computed is:\", t_computed)\n",
    "print(\"p_value is:\", pval / 2)\n",
    "\n",
    "alpha = 0.025\n",
    "t_critical = 2.064\n",
    "if (pval / 2) < alpha and t_computed > t_critical:\n",
    "    print(\"Reject H0\")\n",
    "elif (pval / 2) > alpha and t_computed <= t_critical:\n",
    "    print(\"Do not reject H0\")\n",
    "else:\n",
    "    print(\"Conflicting result\")"
   ]
  },
  {
   "cell_type": "markdown",
   "metadata": {},
   "source": [
    "##### SciPy and manual calculation comparison\n",
    "* The results of SciPy calculation and manual calculation yield the same result\n",
    "* We reject $H_0$, fail to reject $H_1$, and $\\mu > 28$"
   ]
  },
  {
   "cell_type": "markdown",
   "metadata": {},
   "source": [
    "### S1 and S2 Two-sample, One-tailed Independent t-test of the Population Mean\n",
    "\n",
    "* Recall that S1 is the control group and S2 is the experiment group\n",
    "* $\\mu_1$ is the mean population of S1, and $\\mu_2$ is the mean population of S2\n",
    "\n",
    "##### Step 1: State the null and alternative hypothesis\n",
    "* $H_0$: $\\mu_2 \\leq \\mu_1$\n",
    "* $H_1$: $\\mu_2 > \\mu_1$\n",
    "\n",
    "##### Step 2: Select the significance level\n",
    "* $\\alpha$ = 0.05\n",
    "\n",
    "##### Step 3: Select the appropriate test statistic\n",
    "$$t = \\frac {\\overline {X_2} - \\overline {X_1}}{\\sqrt {s_p^2 (\\frac {1}{n_1} + \\frac {1}{n_2})}}$$\n",
    "\n",
    "$$\\text {where } s_p^2 = \\frac{(n_1 - 1)s_1^2 + (n_2 - 1)s_2^2}{n_1 + n_2 - 2}$$ \n",
    "\n",
    "* $t = \\text {t-score}$\n",
    "* $\\overline{X} = \\text {Sample mean}$\n",
    "* $s_p^2 = \\text {Pooled variance}$\n",
    "* $s_1, s_2 = \\text {Standard deviation of S1 and S2}$\n",
    "* $n_1, n_2 = \\text {Number of sample of S1 and S2}$\n",
    "\n",
    "##### Step 4: Formulate decision rule\n",
    "* $df = n_1 + n_2 - 2 = 25 + 25 - 2 = 48$\n",
    "* Critical value: $t_{critical} = 1.677$\n",
    "* Since $H_1$: $\\mu_2 > \\mu_1$, we are dealing with right-tailed test. The decision rule is as follow:\n",
    "    * If $t_{computed} > 1.677$, then *Reject $H_0$*\n",
    "    * If $t_{computed} \\leq 1.677$, then *Do no reject $H_0$*\n",
    "\n",
    "##### Step 5: Make the decision\n",
    "1. Compute $t_{computed}$\n",
    "* $s_p^2 = \\frac{(n_1 - 1)s_1^2 + (n_2 - 1)s_2^2}{n_1 + n_2 - 2} = \\frac {(25 - 1) \\times 16.63^2 + (25 - 1) \\times 31.66^2}{25 + 25 - 2} = 639.456$\n",
    "* $t_{computed} = \\frac {\\overline {X_2} - \\overline {X_1}}{\\sqrt {s_p^2 (\\frac {1}{n_1} + \\frac {1}{n_2})}} = \\frac {43.48 - 30.72}{\\sqrt {639.456 \\times (\\frac {1}{25} + \\frac{1}{25})}} = 1.784$\n",
    "\n",
    "2. Apply the decision rule\n",
    "* Since $t_{computed}$ is 1.784, which is greater than $t_{critical}$ at 1.677, we reject $H_0$, fail to reject $H_1$, and $\\mu_2 > \\mu_1$\n",
    "\n",
    "3. Compute $p_{value}$\n",
    "* $t_{computed} = 1.784$\n",
    "* $df = 48$\n",
    "* From the t-distribution table, our $p_{value}$ is within $0.025 < p_{value} < 0.05$, which is less than $\\alpha = 0.05$\n",
    "* Reject $H_0$, fail to reject $H_1$, and $\\mu_2 > \\mu_1$\n",
    "\n",
    "4. Write a conclusion\n",
    "* At the 0.05 significance, we can conclude that the S2 students committed more than average the S1 students"
   ]
  },
  {
   "cell_type": "markdown",
   "metadata": {},
   "source": [
    "##### Checking with SciPy"
   ]
  },
  {
   "cell_type": "code",
   "execution_count": 41,
   "metadata": {},
   "outputs": [
    {
     "name": "stdout",
     "output_type": "stream",
     "text": [
      "t_computed is: 1.784098380137661\n",
      "p_value is: 0.041383224909752096\n",
      "Reject H0\n"
     ]
    }
   ],
   "source": [
    "t_computed, pval = stats.ttest_ind(s2, s1, equal_var=False)\n",
    "print(\"t_computed is:\", t_computed)\n",
    "print(\"p_value is:\", pval / 2)\n",
    "\n",
    "alpha = 0.05\n",
    "t_critical = 1.677\n",
    "if (pval / 2) < alpha and t_computed > t_critical:\n",
    "    print(\"Reject H0\")\n",
    "elif (pval / 2) > alpha and t_computed <= t_critical:\n",
    "    print(\"Do not reject H0\")\n",
    "else:\n",
    "    print(\"Conflicting result\")"
   ]
  },
  {
   "cell_type": "markdown",
   "metadata": {},
   "source": [
    "##### SciPy and manual calculation comparison\n",
    "* The results of SciPy calculation and manual calculation yield the same result\n",
    "* We reject $H_0$, fail to reject $H_1$, and $\\mu_2 > \\mu_1$"
   ]
  }
 ],
 "metadata": {
  "kernelspec": {
   "display_name": "Python 3.9.12 ('base')",
   "language": "python",
   "name": "python3"
  },
  "language_info": {
   "codemirror_mode": {
    "name": "ipython",
    "version": 3
   },
   "file_extension": ".py",
   "mimetype": "text/x-python",
   "name": "python",
   "nbconvert_exporter": "python",
   "pygments_lexer": "ipython3",
   "version": "3.9.12"
  },
  "orig_nbformat": 4,
  "vscode": {
   "interpreter": {
    "hash": "5ccfa51b6a2c575f9ec4b5f633399d96d9a08ae2d3de4a2b338c15ea2dbb5975"
   }
  }
 },
 "nbformat": 4,
 "nbformat_minor": 2
}
