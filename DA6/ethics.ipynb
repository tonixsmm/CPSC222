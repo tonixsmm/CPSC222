{
 "cells": [
  {
   "cell_type": "markdown",
   "metadata": {},
   "source": [
    "# Data Ethics 5\n",
    "Tony Nguyen\n",
    "\n",
    "CPSC 222 01\n",
    "\n",
    "11/22/2022\n"
   ]
  },
  {
   "cell_type": "markdown",
   "metadata": {},
   "source": [
    "This article about A/B testing is pretty interesting to me. A/B testing is not new; in fact, I have watched a series called “Hacking Google,” where an A/B testing expert was giving an opinion about their relevance. Regardless, I think this testing method is a double-edged sword. To some extent, I feel A/B testing is necessary for a company to conduct a test on a smaller, easier-to-control sample before deploying it to the entire platform. But how those tech firms perform the test might suggest other problems. \n",
    "\n",
    "It is true that we, as humans, have a tendency to never read the user’s agreement prior to signing up for online services – at least, I have never done so. So, we are usually unaware of what data has been collected for what purposes. So, I believe tech companies should offer users opt-in and opt-out options for those tests. Unless those firms can better describe what they are going to do, I think it will be impossible for us to know where our data will end up. And Facebook is not the only social media firm that does so. \n",
    "\n",
    "I find there is a hard line that those tests should not cross, that is, to alter people’s perception or emotion towards another way. This is really broad, but simply speaking, we should not reduce the appearance of negative news to a more positive one, or vice versa, because we should be able to make decisions on what information we choose to know about. And since Facebook’s A/B testing tried to dissuade people of positive news, it is a form of digital gaslighting, which I see it a very unethical approach to conducting their study.\n",
    "\n",
    "Although one can say if we are not happy with how those firms use our data, we cannot stop using it. However, in reality, this is not always the case. There are some services that we relied heavily on it. For example, Zoom, an online conference service that has been so widely used since the pandemic, asks for our consent to access our disk, keyboard input, screen contents, and so on. I know it is welcoming that Zoom asked it at first, but we do not have other options besides accepting the consent if we still want to use Zoom (and in fact, there is no other option besides using Zoom since everyone is using it).\n",
    "\n",
    "Another example I can think of is Gonzaga’s ZagWeb and Paylocity’s timesheet systems, which I often use to log my work timesheet. These two systems require constant re-authentication, which is annoying, in my opinion. I understand the security needs behind those security features, but it’s just an unwelcoming UI design. And one more time, there is no opt-out from using it because I would not get paid if I did so. Therefore, if those two systems conduct a study for a more user-friendly interface, I would be inclined not to opt-out if given the option, as I know, it will benefit my experience. However, it is essential that those system companies can explain which data is collected and what it is used for.\n",
    "\n",
    "And towards the future, I find having regulations on how our data can be used is necessary. We are living in a world of data-oriented, where every decision can be analyzed from user data. Recently, Facebook changed its name to Meta, which to my thinking, is a reconciliation of the data-oriented approach that companies are using. Meta gives me the impression of a metaverse, where our data can be digitally reconstructed online to serve targeted services, customization, and artificial intelligence. Therefore, regulations on data ethics cannot be more urgently needed so that we, as users, can feel safe while using those services."
   ]
  }
 ],
 "metadata": {
  "kernelspec": {
   "display_name": "Python 3.9.12 ('base')",
   "language": "python",
   "name": "python3"
  },
  "language_info": {
   "name": "python",
   "version": "3.9.12"
  },
  "orig_nbformat": 4,
  "vscode": {
   "interpreter": {
    "hash": "5ccfa51b6a2c575f9ec4b5f633399d96d9a08ae2d3de4a2b338c15ea2dbb5975"
   }
  }
 },
 "nbformat": 4,
 "nbformat_minor": 2
}
