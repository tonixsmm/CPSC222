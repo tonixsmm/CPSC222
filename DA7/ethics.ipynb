{
 "cells": [
  {
   "attachments": {},
   "cell_type": "markdown",
   "metadata": {},
   "source": [
    "# Data Ethics\n",
    "Tony Nguyen\n",
    "\n",
    "CPSC 222 01\n",
    "\n",
    "12/7/2022\n",
    "\n",
    "Data Assignment 7\n",
    "\n",
    "I attempted the bonus"
   ]
  },
  {
   "attachments": {},
   "cell_type": "markdown",
   "metadata": {},
   "source": [
    "For this assignment’s data ethics part, I choose to read Cathy O’Neil’s *Weapon of Math Destruction* chapter 3. I find the content of this chapter interesting since it reflects my thought about colleges: and the environment in which I am living.\n",
    "\n",
    "In the chapter, Ms. O’Neil suggests how the *U.S. News* college ranking system has forced colleges to play along with its ranking rules. She gives an interesting example of how Texas Christian University responded to the lower ranking than before and how the institution dedicated its resources to reclaim the higher position. The writer also mentions some of her thoughts regarding what would play a significant role in calculating the ranking spot, as well as how the *U.S. News* has developed its ranking system. Another point that I find fascinating to know is the Saudi Arabian university. The way that school pays big money for a top-tier professor to be an adjunct and flies them all the way to Saudi Arabia to get around the ranking system. I realize, just as she said, that every game can be *gamed*.\n",
    "\n",
    "Another point that Ms. O’Neil writes in her book is the *Hippocratic Oath*, just like the one doctors take before they practice medicine. I solemnly accept the pledge to the Oath, as I understand there will always be stories behind those numbers. I would not add anything else to the pledge; I believe they should be enough to act as a foundation for new data scientists and let them add their values to the Oath themselves. The Oath reminds me of the COVID-19 era in 2020 and 2021. I remembered data polls coming every day on the news about new cases, new hospitalized, and most sadly, new deaths. In an article by Aliza Aufrichtig, named “Voices of a Grieving Nation,” posted in *The New York Times*, Ms. Aufrichtig told stories behind the government’s tallies. It was heartbreaking to think about the loss during the pandemic, and it has constantly reminded me that there is always more than just a number. \n",
    "\n",
    "Finally, in regard to the situation when higher-level executives may force me to provide a result that I might negligently ignore the process, I think I am able to figure out the “when” and stop before it crosses my values. One of the things I like most about Gonzaga’s educational philosophy is to “educate a whole person.” This is why students need to take several philosophy classes, which create an opportunity for them to wonder. This wondering phase will enable students to think about their values and how to live up to their beliefs. These values vary by person, but it is also a self-correcting process. So, I am confident that I can be ethical to myself – most important – and to the community that I live in."
   ]
  },
  {
   "attachments": {},
   "cell_type": "markdown",
   "metadata": {},
   "source": [
    "##### Works Cited\n",
    "Aufrichtig, Aliza. “Voices of a Grieving Nation.” *The New York Times*, The New York Times, 20 May 2022, https://www.nytimes.com/interactive/2022/05/19/us/grief-one-million-us-covid-deaths.html."
   ]
  }
 ],
 "metadata": {
  "kernelspec": {
   "display_name": "base",
   "language": "python",
   "name": "python3"
  },
  "language_info": {
   "name": "python",
   "version": "3.9.12 (main, Apr  5 2022, 01:53:17) \n[Clang 12.0.0 ]"
  },
  "orig_nbformat": 4,
  "vscode": {
   "interpreter": {
    "hash": "5ccfa51b6a2c575f9ec4b5f633399d96d9a08ae2d3de4a2b338c15ea2dbb5975"
   }
  }
 },
 "nbformat": 4,
 "nbformat_minor": 2
}
