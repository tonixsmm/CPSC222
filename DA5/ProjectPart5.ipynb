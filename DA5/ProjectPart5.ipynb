{
 "cells": [
  {
   "cell_type": "markdown",
   "metadata": {},
   "source": [
    "## Project Part 5\n",
    "\n",
    "Tony Nguyen\n",
    "\n",
    "CPSC 222 01\n",
    "\n",
    "11/08/2022"
   ]
  },
  {
   "cell_type": "code",
   "execution_count": 1,
   "metadata": {},
   "outputs": [],
   "source": [
    "import pandas as pd\n",
    "import numpy as np\n",
    "import matplotlib.pyplot as plt"
   ]
  },
  {
   "cell_type": "markdown",
   "metadata": {},
   "source": [
    "### Data Loading\n",
    "For this assignment's project, I choose to work with my Spotify data, which is in JSON format. Therefore, I will import them to a Pandas DataFrame, perform cleaning, and export to a .csv file\n",
    "\n",
    "Among the files Spotify provided, I chose to work with `StreamHistory0.json` because of the number of instances recorded. This table contains information on the streaming history of my account, just like the name of it, for one year, from September 21, 2021, to September 21, 2022.\n",
    "\n",
    "Here are the list of attributes in this file:\n",
    "* `endTime`: the timestamp of when the song stopped playing in UTC format\n",
    "* `artistName`: Name of artist of perform the song\n",
    "* `trackName`: Name of the song\n",
    "* `msPlayed`: How long the song was played in milisecond"
   ]
  },
  {
   "cell_type": "code",
   "execution_count": 8,
   "metadata": {},
   "outputs": [
    {
     "data": {
      "text/html": [
       "<div>\n",
       "<style scoped>\n",
       "    .dataframe tbody tr th:only-of-type {\n",
       "        vertical-align: middle;\n",
       "    }\n",
       "\n",
       "    .dataframe tbody tr th {\n",
       "        vertical-align: top;\n",
       "    }\n",
       "\n",
       "    .dataframe thead th {\n",
       "        text-align: right;\n",
       "    }\n",
       "</style>\n",
       "<table border=\"1\" class=\"dataframe\">\n",
       "  <thead>\n",
       "    <tr style=\"text-align: right;\">\n",
       "      <th></th>\n",
       "      <th>endTime</th>\n",
       "      <th>artistName</th>\n",
       "      <th>trackName</th>\n",
       "      <th>msPlayed</th>\n",
       "    </tr>\n",
       "  </thead>\n",
       "  <tbody>\n",
       "    <tr>\n",
       "      <th>0</th>\n",
       "      <td>2021-09-10 06:28</td>\n",
       "      <td>Olivia Rodrigo</td>\n",
       "      <td>jealousy, jealousy</td>\n",
       "      <td>117418</td>\n",
       "    </tr>\n",
       "    <tr>\n",
       "      <th>1</th>\n",
       "      <td>2021-09-10 06:31</td>\n",
       "      <td>Jeremy Zucker</td>\n",
       "      <td>this is how you fall in love</td>\n",
       "      <td>174586</td>\n",
       "    </tr>\n",
       "    <tr>\n",
       "      <th>2</th>\n",
       "      <td>2021-09-10 06:35</td>\n",
       "      <td>BANNERS</td>\n",
       "      <td>Someone To You - Acoustic</td>\n",
       "      <td>214906</td>\n",
       "    </tr>\n",
       "    <tr>\n",
       "      <th>3</th>\n",
       "      <td>2021-09-10 06:39</td>\n",
       "      <td>Birdy</td>\n",
       "      <td>Deep End</td>\n",
       "      <td>208840</td>\n",
       "    </tr>\n",
       "    <tr>\n",
       "      <th>4</th>\n",
       "      <td>2021-09-10 06:42</td>\n",
       "      <td>sadeyes</td>\n",
       "      <td>you deserve better</td>\n",
       "      <td>141927</td>\n",
       "    </tr>\n",
       "    <tr>\n",
       "      <th>...</th>\n",
       "      <td>...</td>\n",
       "      <td>...</td>\n",
       "      <td>...</td>\n",
       "      <td>...</td>\n",
       "    </tr>\n",
       "    <tr>\n",
       "      <th>9222</th>\n",
       "      <td>2022-09-10 05:21</td>\n",
       "      <td>Hoàng Dũng</td>\n",
       "      <td>Ném Câu Yêu Vào Không Trung</td>\n",
       "      <td>14186</td>\n",
       "    </tr>\n",
       "    <tr>\n",
       "      <th>9223</th>\n",
       "      <td>2022-09-10 05:22</td>\n",
       "      <td>Taylor Swift</td>\n",
       "      <td>I Bet You Think About Me (feat. Chris Stapleto...</td>\n",
       "      <td>704</td>\n",
       "    </tr>\n",
       "    <tr>\n",
       "      <th>9224</th>\n",
       "      <td>2022-09-10 05:22</td>\n",
       "      <td>Suni Hạ Linh</td>\n",
       "      <td>có hẹn với thanh xuân</td>\n",
       "      <td>2538</td>\n",
       "    </tr>\n",
       "    <tr>\n",
       "      <th>9225</th>\n",
       "      <td>2022-09-10 05:30</td>\n",
       "      <td>MONSTAR</td>\n",
       "      <td>có hẹn với thanh xuân</td>\n",
       "      <td>554</td>\n",
       "    </tr>\n",
       "    <tr>\n",
       "      <th>9226</th>\n",
       "      <td>2022-09-10 07:27</td>\n",
       "      <td>Taylor Swift</td>\n",
       "      <td>The Way I Loved You (Taylor’s Version)</td>\n",
       "      <td>84693</td>\n",
       "    </tr>\n",
       "  </tbody>\n",
       "</table>\n",
       "<p>9227 rows × 4 columns</p>\n",
       "</div>"
      ],
      "text/plain": [
       "               endTime      artistName  \\\n",
       "0     2021-09-10 06:28  Olivia Rodrigo   \n",
       "1     2021-09-10 06:31   Jeremy Zucker   \n",
       "2     2021-09-10 06:35         BANNERS   \n",
       "3     2021-09-10 06:39           Birdy   \n",
       "4     2021-09-10 06:42         sadeyes   \n",
       "...                ...             ...   \n",
       "9222  2022-09-10 05:21      Hoàng Dũng   \n",
       "9223  2022-09-10 05:22    Taylor Swift   \n",
       "9224  2022-09-10 05:22    Suni Hạ Linh   \n",
       "9225  2022-09-10 05:30         MONSTAR   \n",
       "9226  2022-09-10 07:27    Taylor Swift   \n",
       "\n",
       "                                              trackName  msPlayed  \n",
       "0                                    jealousy, jealousy    117418  \n",
       "1                          this is how you fall in love    174586  \n",
       "2                             Someone To You - Acoustic    214906  \n",
       "3                                              Deep End    208840  \n",
       "4                                    you deserve better    141927  \n",
       "...                                                 ...       ...  \n",
       "9222                        Ném Câu Yêu Vào Không Trung     14186  \n",
       "9223  I Bet You Think About Me (feat. Chris Stapleto...       704  \n",
       "9224                              có hẹn với thanh xuân      2538  \n",
       "9225                              có hẹn với thanh xuân       554  \n",
       "9226             The Way I Loved You (Taylor’s Version)     84693  \n",
       "\n",
       "[9227 rows x 4 columns]"
      ]
     },
     "execution_count": 8,
     "metadata": {},
     "output_type": "execute_result"
    }
   ],
   "source": [
    "data = pd.read_json(\"StreamingHistory0.json\")\n",
    "data"
   ]
  },
  {
   "cell_type": "markdown",
   "metadata": {},
   "source": [
    "### Data Cleaning\n",
    "With the provided dataset, I want to investigate how much time *in total* I have played **Taylor Swift**'s song throughout the year. So, I filter the dataset by `artistName` and then perform *Split-Apply-Combine* method to calculate the total playtime.\n",
    "\n",
    "Besides, since the number of instances will be too large if I decide to do data visualization, I will limit size down to 10 instances. Below is the attribute of the dataset after being filtered and sorted descending:\n",
    "* `trackName`: Name of the song, also index of the data\n",
    "* `msPlayed`: Time played in miliseconds"
   ]
  },
  {
   "cell_type": "code",
   "execution_count": 70,
   "metadata": {},
   "outputs": [
    {
     "data": {
      "text/html": [
       "<div>\n",
       "<style scoped>\n",
       "    .dataframe tbody tr th:only-of-type {\n",
       "        vertical-align: middle;\n",
       "    }\n",
       "\n",
       "    .dataframe tbody tr th {\n",
       "        vertical-align: top;\n",
       "    }\n",
       "\n",
       "    .dataframe thead th {\n",
       "        text-align: right;\n",
       "    }\n",
       "</style>\n",
       "<table border=\"1\" class=\"dataframe\">\n",
       "  <thead>\n",
       "    <tr style=\"text-align: right;\">\n",
       "      <th></th>\n",
       "      <th>msPlayed</th>\n",
       "    </tr>\n",
       "    <tr>\n",
       "      <th>trackName</th>\n",
       "      <th></th>\n",
       "    </tr>\n",
       "  </thead>\n",
       "  <tbody>\n",
       "    <tr>\n",
       "      <th>All Too Well (10 Minute Version) (Taylor's Version) (From The Vault)</th>\n",
       "      <td>25068233</td>\n",
       "    </tr>\n",
       "    <tr>\n",
       "      <th>I Bet You Think About Me (feat. Chris Stapleton) (Taylor’s Version) (From The Vault)</th>\n",
       "      <td>14886988</td>\n",
       "    </tr>\n",
       "    <tr>\n",
       "      <th>Enchanted</th>\n",
       "      <td>11370897</td>\n",
       "    </tr>\n",
       "    <tr>\n",
       "      <th>Love Story (Taylor’s Version)</th>\n",
       "      <td>9345037</td>\n",
       "    </tr>\n",
       "    <tr>\n",
       "      <th>Everything Has Changed (feat. Ed Sheeran) (Taylor’s Version)</th>\n",
       "      <td>8444822</td>\n",
       "    </tr>\n",
       "    <tr>\n",
       "      <th>champagne problems</th>\n",
       "      <td>7195297</td>\n",
       "    </tr>\n",
       "    <tr>\n",
       "      <th>All Too Well (Taylor's Version)</th>\n",
       "      <td>7085527</td>\n",
       "    </tr>\n",
       "    <tr>\n",
       "      <th>Run (feat. Ed Sheeran) (Taylor’s Version) (From The Vault)</th>\n",
       "      <td>6962929</td>\n",
       "    </tr>\n",
       "    <tr>\n",
       "      <th>betty</th>\n",
       "      <td>3276761</td>\n",
       "    </tr>\n",
       "  </tbody>\n",
       "</table>\n",
       "</div>"
      ],
      "text/plain": [
       "                                                    msPlayed\n",
       "trackName                                                   \n",
       "All Too Well (10 Minute Version) (Taylor's Vers...  25068233\n",
       "I Bet You Think About Me (feat. Chris Stapleton...  14886988\n",
       "Enchanted                                           11370897\n",
       "Love Story (Taylor’s Version)                        9345037\n",
       "Everything Has Changed (feat. Ed Sheeran) (Tayl...   8444822\n",
       "champagne problems                                   7195297\n",
       "All Too Well (Taylor's Version)                      7085527\n",
       "Run (feat. Ed Sheeran) (Taylor’s Version) (From...   6962929\n",
       "betty                                                3276761"
      ]
     },
     "execution_count": 70,
     "metadata": {},
     "output_type": "execute_result"
    }
   ],
   "source": [
    "x1 = data[data.artistName == \"Taylor Swift\"]\n",
    "x2 = x1.groupby(\"trackName\").sum().sort_values(\"msPlayed\", ascending=False).iloc[0:9]\n",
    "x2.to_csv(\"StreamingHistory0.csv\")\n",
    "x2"
   ]
  },
  {
   "cell_type": "markdown",
   "metadata": {},
   "source": [
    "### Data Visualization\n",
    "I choose to graph a bar chart to illustrate my finding above, with the name of song on the x-axis and time played on the y-axis. However, it is worth noting that as the song names are exceptionally long, I tried to do color coding with the bar but I cannot get them to display as a legend. Therefore, it is why the chart looks a little uneven.\n",
    "\n",
    "According to the chart, I streamed \"All Too Well\" the most at more than 25,000,000 milisecond, which is more than 417 minutes! I find this result sound since this is a 10-minute version of the song that Taylor Swift dropped last Fall and I have been enjoying it since. \n",
    "\n",
    "[Pastel Colors Source](https://matplotlib.org/stable/gallery/misc/table_demo.html#sphx-glr-gallery-misc-table-demo-py)"
   ]
  },
  {
   "cell_type": "code",
   "execution_count": 68,
   "metadata": {},
   "outputs": [
    {
     "data": {
      "image/png": "[encoded data removed]",
      "text/plain": [
       "<Figure size 432x288 with 1 Axes>"
      ]
     },
     "metadata": {
      "needs_background": "light"
     },
     "output_type": "display_data"
    }
   ],
   "source": [
    "colors = plt.cm.BuPu(np.linspace(0.6, 0.2, len(x2)))\n",
    "plt.bar(x2.index, x2[\"msPlayed\"], color=colors)\n",
    "\n",
    "plt.xticks(rotation=45, ha=\"right\")\n",
    "plt.ticklabel_format(style='plain', axis='y')\n",
    "plt.xlabel(\"Name of Song\")\n",
    "plt.ylabel(\"Time Played (milisecond)\")\n",
    "plt.title(\"Total Stream Time of the 10 Most Played Taylor Swift's Songs\")\n",
    "\n",
    "plt.show()"
   ]
  }
 ],
 "metadata": {
  "kernelspec": {
   "display_name": "Python 3.9.12 ('base')",
   "language": "python",
   "name": "python3"
  },
  "language_info": {
   "codemirror_mode": {
    "name": "ipython",
    "version": 3
   },
   "file_extension": ".py",
   "mimetype": "text/x-python",
   "name": "python",
   "nbconvert_exporter": "python",
   "pygments_lexer": "ipython3",
   "version": "3.9.12"
  },
  "orig_nbformat": 4,
  "vscode": {
   "interpreter": {
    "hash": "5ccfa51b6a2c575f9ec4b5f633399d96d9a08ae2d3de4a2b338c15ea2dbb5975"
   }
  }
 },
 "nbformat": 4,
 "nbformat_minor": 2
}
