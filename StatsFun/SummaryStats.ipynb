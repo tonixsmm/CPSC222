{
 "cells": [
  {
   "cell_type": "code",
   "execution_count": 17,
   "metadata": {},
   "outputs": [
    {
     "name": "stdout",
     "output_type": "stream",
     "text": [
      "good bye\n"
     ]
    }
   ],
   "source": [
    "import utils\n",
    "import importlib #Reload the code that has run before\n",
    "\n",
    "utils.say_hello()"
   ]
  },
  {
   "cell_type": "markdown",
   "metadata": {},
   "source": [
    "# Stats Overview\n",
    "Recall: We said that instances are sampled from the \"universe of instances\"\n",
    "\n",
    "In stats, we say a sample of observation comes from a population\n",
    "* population = universe\n",
    "* sample = dataset\n",
    "\n",
    "Example:\n",
    "* Population: all college students (nationwide)\n",
    "    * Expensive in terms of time and money\n",
    "* Sample: all 222 students in this class\n",
    "    * Cheaper to collect. Use stats to infere from the number\n",
    "\n",
    "Some more key stats terms:\n",
    "* Parameter: any measurable characteristic about a population\n",
    "    * E.g. population mean $\\mu$\n",
    "* Statistic: any measurable characteristic about a sample\n",
    "    * E.g. sample mean $\\overline{x}$\n",
    "* Descriptive Stats: Stats that organize and summarize data\n",
    "    * E.g. central tendency measures, data disperion measures, etc.\n",
    "* Inferential stats: making inferences that go beyond the known data\n",
    "    * E.g. inferring something about the population based on a sample"
   ]
  },
  {
   "cell_type": "markdown",
   "metadata": {},
   "source": [
    "## Summary Stats\n",
    "Summarize a data distribution into a single value or a set of values\n",
    "\n",
    "Number of data points"
   ]
  },
  {
   "cell_type": "code",
   "execution_count": 18,
   "metadata": {},
   "outputs": [
    {
     "name": "stdout",
     "output_type": "stream",
     "text": [
      "0    6\n",
      "1    8\n",
      "2    3\n",
      "3    8\n",
      "4    8\n",
      "5    7\n",
      "dtype: int64\n",
      "Number of data points: 6 6 (6,)\n"
     ]
    }
   ],
   "source": [
    "import pandas as pd\n",
    "\n",
    "x = [6, 8, 3, 8, 8, 7]\n",
    "ser = pd.Series(x)\n",
    "print(ser)\n",
    "print(\"Number of data points:\", len(ser), ser.size, ser.shape)"
   ]
  },
  {
   "cell_type": "markdown",
   "metadata": {},
   "source": [
    "Min and Max\n",
    "* Doesn't make sense for nominal attributes"
   ]
  },
  {
   "cell_type": "code",
   "execution_count": 19,
   "metadata": {},
   "outputs": [
    {
     "name": "stdout",
     "output_type": "stream",
     "text": [
      "min: 3 max: 8\n"
     ]
    }
   ],
   "source": [
    "print(\"min:\", ser.min(), \"max:\", ser.max())"
   ]
  },
  {
   "cell_type": "markdown",
   "metadata": {},
   "source": [
    "### Central Tendency\n",
    "Measure the middle value(s) in a data distribution\n",
    "\n",
    "Mid value: $\\frac{min + max}{2}$"
   ]
  },
  {
   "cell_type": "code",
   "execution_count": 20,
   "metadata": {},
   "outputs": [
    {
     "name": "stdout",
     "output_type": "stream",
     "text": [
      "mid value: 5.5\n"
     ]
    }
   ],
   "source": [
    "print(\"mid value:\", (ser.min() + ser.max()) / 2)"
   ]
  },
  {
   "cell_type": "markdown",
   "metadata": {},
   "source": [
    "Arithmetic mean (AKA average)\n",
    "* Sensitive to outliers\n",
    "* Should only be applied if you know your attribute is numeric"
   ]
  },
  {
   "cell_type": "code",
   "execution_count": 21,
   "metadata": {},
   "outputs": [
    {
     "name": "stdout",
     "output_type": "stream",
     "text": [
      "mean: 6.666666666666667\n"
     ]
    }
   ],
   "source": [
    "print(\"mean:\", ser.mean())"
   ]
  },
  {
   "cell_type": "markdown",
   "metadata": {},
   "source": [
    "Median: middle number in a sorted list of numbers"
   ]
  },
  {
   "cell_type": "code",
   "execution_count": 22,
   "metadata": {},
   "outputs": [
    {
     "name": "stdout",
     "output_type": "stream",
     "text": [
      "2    3\n",
      "0    6\n",
      "5    7\n",
      "1    8\n",
      "3    8\n",
      "4    8\n",
      "dtype: int64\n",
      "median 7.5\n"
     ]
    }
   ],
   "source": [
    "sorted_ser = ser.sort_values()\n",
    "print(sorted_ser)\n",
    "print(\"median\", ser.median())"
   ]
  },
  {
   "cell_type": "markdown",
   "metadata": {},
   "source": [
    "Mode: most frequently occuring value(s)"
   ]
  },
  {
   "cell_type": "code",
   "execution_count": 23,
   "metadata": {},
   "outputs": [
    {
     "name": "stdout",
     "output_type": "stream",
     "text": [
      "mode: 0    8\n",
      "dtype: int64\n"
     ]
    }
   ],
   "source": [
    "print(\"mode:\", ser.mode())"
   ]
  },
  {
   "cell_type": "markdown",
   "metadata": {},
   "source": [
    "### Data Dispersion (Spread)\n",
    "Measure how spread out the data are\n",
    "\n",
    "Range: Max - Min"
   ]
  },
  {
   "cell_type": "code",
   "execution_count": 24,
   "metadata": {},
   "outputs": [
    {
     "name": "stdout",
     "output_type": "stream",
     "text": [
      "range: 5\n"
     ]
    }
   ],
   "source": [
    "print(\"range:\", ser.max() - ser.min())"
   ]
  },
  {
   "cell_type": "markdown",
   "metadata": {},
   "source": [
    "Quantiles: roughly equal sized partitions of sorted data\n",
    "* 2 quatiles: 1 data point that divides the data into 2 halves (median)\n",
    "* quartiles: 3 data points that divide the data into 4 quarters\n",
    "* percentile: 99 data points that divide the data into 100 groups\n",
    "    * 75th percentile: the 3rd quartile\n",
    "    * 50th percentile: 2nd quartile aka median\n",
    "    * 25th percentile: the 1st quartile \n",
    "* IQR (interquartile range): 75th percentile  - 25th percentile"
   ]
  },
  {
   "cell_type": "code",
   "execution_count": 25,
   "metadata": {},
   "outputs": [
    {
     "data": {
      "image/png": "[encoded data removed]",
      "text/plain": [
       "<Figure size 432x288 with 1 Axes>"
      ]
     },
     "metadata": {
      "needs_background": "light"
     },
     "output_type": "display_data"
    }
   ],
   "source": [
    "import numpy as np\n",
    "import matplotlib.pyplot as plt\n",
    "\n",
    "mean = 100\n",
    "stdev = 25\n",
    "num_samples = 1000\n",
    "# random data from a normal distribution\n",
    "x1 = np.random.normal(mean, stdev, num_samples)\n",
    "\n",
    "# People love boxplot cuz it's non-parametric\n",
    "# meaning this chart does not assume the data is at a specific shape\n",
    "# the horizontal red line in the box is the median, not mean - only used when your data is normal\n",
    "# the top and bottom (black lines) of the box represents IQR\n",
    "# the top and bottom whiskers (outter most) is 1.5 * IQR\n",
    "# the circles are outliers\n",
    "\n",
    "# task: add another distribution to the plot with smaller stdev\n",
    "stdev = 5\n",
    "x2 = np.random.normal(mean, stdev, num_samples)\n",
    "\n",
    "plt.boxplot([x1, x2]) # accepts a list of distributions\n",
    "plt.show()"
   ]
  },
  {
   "cell_type": "markdown",
   "metadata": {},
   "source": [
    "Variance: another measurement for how spread out data are from the mean\n",
    "* High variance: very spread out\n",
    "* Low variance: close to the mean\n",
    "\n",
    "More commonly, people use stdev (square root of the variance), because it is in the same units as the mean"
   ]
  },
  {
   "cell_type": "code",
   "execution_count": 26,
   "metadata": {},
   "outputs": [
    {
     "name": "stdout",
     "output_type": "stream",
     "text": [
      "variance 3.866666666666667\n",
      "stdev: 1.9663841605003503 1.9663841605003503\n"
     ]
    }
   ],
   "source": [
    "print(\"variance\", ser.var())\n",
    "print(\"stdev:\", ser.std(), np.sqrt(ser.var()))"
   ]
  },
  {
   "cell_type": "markdown",
   "metadata": {},
   "source": [
    "Histogram demo"
   ]
  },
  {
   "cell_type": "code",
   "execution_count": 27,
   "metadata": {},
   "outputs": [
    {
     "data": {
      "image/png": "[encoded data removed]",
      "text/plain": [
       "<Figure size 432x288 with 1 Axes>"
      ]
     },
     "metadata": {
      "needs_background": "light"
     },
     "output_type": "display_data"
    }
   ],
   "source": [
    "plt.hist(x1)\n",
    "plt.hist(x2)\n",
    "plt.show()"
   ]
  },
  {
   "cell_type": "markdown",
   "metadata": {},
   "source": [
    "## Emperical Rule for Normal Distribution\n",
    "* (about) 68% of the data lies within +/- 1 stdev\n",
    "* (about) 95% of the data lies within +/- 2 stdev\n",
    "* (about) 99.7% of the data lies within +/- 3 stdev"
   ]
  },
  {
   "cell_type": "code",
   "execution_count": 30,
   "metadata": {},
   "outputs": [
    {
     "name": "stdout",
     "output_type": "stream",
     "text": [
      "within +/- 1: 0.683\n",
      "within +/- 2: 0.956\n",
      "within +/- 3: 0.997\n"
     ]
    }
   ],
   "source": [
    "import importlib\n",
    "import numpy as np\n",
    "# task: \"prove\" that the emperical rule applies to x1 and x2 data\n",
    "count_within_1stdev = 0\n",
    "count_within_2stdev = 0\n",
    "count_within_3stdev = 0\n",
    "\n",
    "sample_mean = np.mean(x1)\n",
    "sample_stdev = np.std(x1)\n",
    "\n",
    "for value in x1:\n",
    "    if sample_mean - 1 * sample_stdev <= value <= sample_mean + 1 * sample_stdev:\n",
    "        count_within_1stdev += 1\n",
    "    if sample_mean - 2 * sample_stdev <= value <= sample_mean + 2 * sample_stdev:\n",
    "        count_within_2stdev += 1\n",
    "    if sample_mean - 3 * sample_stdev <= value <= sample_mean + 3 * sample_stdev:\n",
    "        count_within_3stdev += 1\n",
    "\n",
    "print(\"within +/- 1:\", count_within_1stdev / num_samples)\n",
    "print(\"within +/- 2:\", count_within_2stdev/ num_samples)\n",
    "print(\"within +/- 3:\", count_within_3stdev / num_samples)"
   ]
  }
 ],
 "metadata": {
  "kernelspec": {
   "display_name": "Python 3.9.12 ('base')",
   "language": "python",
   "name": "python3"
  },
  "language_info": {
   "codemirror_mode": {
    "name": "ipython",
    "version": 3
   },
   "file_extension": ".py",
   "mimetype": "text/x-python",
   "name": "python",
   "nbconvert_exporter": "python",
   "pygments_lexer": "ipython3",
   "version": "3.9.12"
  },
  "orig_nbformat": 4,
  "vscode": {
   "interpreter": {
    "hash": "5ccfa51b6a2c575f9ec4b5f633399d96d9a08ae2d3de4a2b338c15ea2dbb5975"
   }
  }
 },
 "nbformat": 4,
 "nbformat_minor": 2
}
