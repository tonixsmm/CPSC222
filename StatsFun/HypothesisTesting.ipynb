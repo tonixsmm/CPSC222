{
 "cells": [
  {
   "cell_type": "code",
   "execution_count": 2,
   "metadata": {},
   "outputs": [
    {
     "name": "stdout",
     "output_type": "stream",
     "text": [
      "29.0 2.7774602993176543 8 7\n",
      "t_computed: -2.0367003088692623\n"
     ]
    }
   ],
   "source": [
    "import numpy as np\n",
    "\n",
    "mpgs = [30, 28, 32, 26, 33, 25, 28, 30]\n",
    "x_bar = np.mean(mpgs)\n",
    "s = np.std(mpgs, ddof=1)\n",
    "n = len(mpgs)\n",
    "df = n - 1\n",
    "print(x_bar, s, n, df)\n",
    "print(\"t_computed:\", (x_bar - 31) / (s / np.sqrt(n)))"
   ]
  },
  {
   "cell_type": "markdown",
   "metadata": {},
   "source": [
    "Check our works with SciPy"
   ]
  },
  {
   "cell_type": "code",
   "execution_count": 3,
   "metadata": {},
   "outputs": [
    {
     "name": "stdout",
     "output_type": "stream",
     "text": [
      "-2.0367003088692623 0.0811068697473857\n",
      "Do not reject H0\n"
     ]
    }
   ],
   "source": [
    "from scipy import stats\n",
    "\n",
    "t_computed, p_val = stats.ttest_1samp(mpgs, 31)\n",
    "print(t_computed, p_val)\n",
    "\n",
    "alpha = 0.05\n",
    "if p_val < alpha:\n",
    "    print(\"Reject H0\")\n",
    "else:\n",
    "    print(\"Do not reject H0\")"
   ]
  },
  {
   "cell_type": "code",
   "execution_count": 4,
   "metadata": {},
   "outputs": [
    {
     "name": "stdout",
     "output_type": "stream",
     "text": [
      "t_computed: 2.1851550736735224\n",
      "2.1851550736735232 0.02117066199247144\n"
     ]
    }
   ],
   "source": [
    "# two samples, one-tailed independent test of means\n",
    "exp =  [61, 102, 119, 128, 62, 158, 271, 57, 266, 137]\n",
    "cont =  [24, 125, 43, 62, 32, 138, 53, 117, 97, 63]\n",
    "\n",
    "x_bar_exp = np.mean(exp)\n",
    "x_bar_cont = np.mean(cont)\n",
    "s_exp = np.std(exp, ddof=1)\n",
    "s_cont = np.std(cont, ddof=1)\n",
    "n_exp = len(exp)\n",
    "n_cont = len(cont)\n",
    "\n",
    "# pooled variance\n",
    "sp2 = ((n_exp - 1) * s_exp ** 2 + (n_cont - 1) * s_cont ** 2) / (n_exp + n_cont - 2)\n",
    "t = (x_bar_exp - x_bar_cont) / np.sqrt(sp2 * (1 / n_exp + 1 / n_cont))\n",
    "print(\"t_computed:\", t)\n",
    "\n",
    "# check works with scipy\n",
    "t, pval = stats.ttest_ind(exp, cont)\n",
    "# when performing a one-tailed test, you need to divide the pval by 2\n",
    "pval /= 2\n",
    "print(t, pval)"
   ]
  },
  {
   "cell_type": "code",
   "execution_count": 5,
   "metadata": {},
   "outputs": [
    {
     "name": "stdout",
     "output_type": "stream",
     "text": [
      "2.208963121532172\n",
      "2.208963121532172 0.02726870763166227\n"
     ]
    }
   ],
   "source": [
    "# 2 dependent samples, 1 tailed\n",
    "before = [45, 52, 34, 38, 47, 42, 61, 53, 52, 49]\n",
    "after = [49, 56, 31, 46, 54, 39, 68, 55, 50, 55]\n",
    "\n",
    "# calculate t manually\n",
    "diffs = []\n",
    "for i in range(len(after)):\n",
    "    diffs.append(after[i] - before[i])\n",
    "dbar = np.mean(diffs)\n",
    "sbar = np.std(diffs, ddof=1) / np.sqrt(len(after))\n",
    "t = dbar / sbar\n",
    "print(t)\n",
    "\n",
    "t, pval = stats.ttest_rel(after, before)\n",
    "pval /= 2\n",
    "print(t, pval)"
   ]
  },
  {
   "cell_type": "markdown",
   "metadata": {},
   "source": [
    "### U6/C Practice Problem\n",
    "\n",
    "$H_{0}$: num show >= 3\n",
    "\n",
    "$H_{1}$: num show < 3\n",
    "\n",
    "level of significance is 0.10\n",
    "\n",
    "df = n - 1 = 9\n",
    "\n",
    "t_critical = 1.383"
   ]
  },
  {
   "cell_type": "code",
   "execution_count": 8,
   "metadata": {},
   "outputs": [
    {
     "name": "stdout",
     "output_type": "stream",
     "text": [
      "1.378915679330765 0.10061052754449723\n"
     ]
    }
   ],
   "source": [
    "xbar = [3, 7, 11, 0, 7, 0, 4, 5, 6, 2]\n",
    "\n",
    "t_computed, pval = stats.ttest_1samp(xbar, 3)\n",
    "pval /= 2\n",
    "print(t_computed, pval)"
   ]
  }
 ],
 "metadata": {
  "kernelspec": {
   "display_name": "Python 3.9.12 ('base')",
   "language": "python",
   "name": "python3"
  },
  "language_info": {
   "codemirror_mode": {
    "name": "ipython",
    "version": 3
   },
   "file_extension": ".py",
   "mimetype": "text/x-python",
   "name": "python",
   "nbconvert_exporter": "python",
   "pygments_lexer": "ipython3",
   "version": "3.9.12"
  },
  "orig_nbformat": 4,
  "vscode": {
   "interpreter": {
    "hash": "5ccfa51b6a2c575f9ec4b5f633399d96d9a08ae2d3de4a2b338c15ea2dbb5975"
   }
  }
 },
 "nbformat": 4,
 "nbformat_minor": 2
}
