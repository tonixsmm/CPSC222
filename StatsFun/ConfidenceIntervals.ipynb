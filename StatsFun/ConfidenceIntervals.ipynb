{
 "cells": [
  {
   "cell_type": "markdown",
   "metadata": {},
   "source": [
    "## Confidence Intervals\n",
    "**IMPORTANT**: `np.std` computes the population stdev, while `pd.std` computes the sample stdev. If you want to use `np.std`, add `ddof=1` to the parameter."
   ]
  },
  {
   "cell_type": "code",
   "execution_count": 13,
   "metadata": {},
   "outputs": [],
   "source": [
    "import numpy as np\n",
    "import matplotlib.pyplot as plt"
   ]
  },
  {
   "cell_type": "code",
   "execution_count": 12,
   "metadata": {},
   "outputs": [
    {
     "name": "stdout",
     "output_type": "stream",
     "text": [
      "8.983333333333333 1.2904074996494381\n",
      "Margin of error: 0.8198913375742501\n",
      "(8.163441995759083, 9.803224670907582)\n",
      "We are 95% confidence that the population mean number of hours of sleep is within: (8.163441995759083, 9.803224670907582)\n"
     ]
    }
   ],
   "source": [
    "observation = [8.2, 9.1, 7.7, 8.6, 6.9, 11.2, 10.1, 9.9, 8.9, 9.2, 7.5, 10.5]\n",
    "\n",
    "x_bar = np.mean(observation)\n",
    "s = np.std(observation, ddof=1)\n",
    "\n",
    "print(x_bar, s)\n",
    "t = 2.201\n",
    "\n",
    "margin_of_error = t*(s/np.sqrt(12))\n",
    "\n",
    "print(\"Margin of error:\", margin_of_error)\n",
    "CI = (x_bar - margin_of_error, x_bar + margin_of_error)\n",
    "print(CI)\n",
    "print(\"We are 95% confidence that the population mean number of hours of sleep is within:\", CI)"
   ]
  },
  {
   "cell_type": "markdown",
   "metadata": {},
   "source": [
    "## Confidence Interval Visualization\n",
    "Here are a few ways, and there are more:\n",
    "1. Scatterplot with a point for `x_bar` and for `CI`\n",
    "1. Bar chart where the height is `x_bar` and there is an error lines for the `CI`"
   ]
  },
  {
   "cell_type": "code",
   "execution_count": 17,
   "metadata": {},
   "outputs": [
    {
     "data": {
      "image/png": "[encoded data removed]",
      "text/plain": [
       "<Figure size 432x288 with 1 Axes>"
      ]
     },
     "metadata": {
      "needs_background": "light"
     },
     "output_type": "display_data"
    }
   ],
   "source": [
    "plt.scatter([1, 1, 1], [x_bar, CI[0], CI[1]])\n",
    "plt.plot([1, 1], CI)\n",
    "plt.show()"
   ]
  },
  {
   "cell_type": "code",
   "execution_count": 22,
   "metadata": {},
   "outputs": [
    {
     "data": {
      "image/png": "[encoded data removed]",
      "text/plain": [
       "<Figure size 432x288 with 1 Axes>"
      ]
     },
     "metadata": {
      "needs_background": "light"
     },
     "output_type": "display_data"
    }
   ],
   "source": [
    "plt.bar([1], [x_bar], yerr=margin_of_error, width=0.25)\n",
    "plt.xlim([0, 2])\n",
    "plt.ylim([0, 12])\n",
    "plt.xticks([1], [\"Hours of Sleep\"])\n",
    "plt.show()"
   ]
  },
  {
   "cell_type": "markdown",
   "metadata": {},
   "source": [
    "## TODO: Work the extra practice problem on the back of the confidence intervals labs"
   ]
  },
  {
   "cell_type": "markdown",
   "metadata": {},
   "source": []
  }
 ],
 "metadata": {
  "kernelspec": {
   "display_name": "Python 3.9.12 ('base')",
   "language": "python",
   "name": "python3"
  },
  "language_info": {
   "codemirror_mode": {
    "name": "ipython",
    "version": 3
   },
   "file_extension": ".py",
   "mimetype": "text/x-python",
   "name": "python",
   "nbconvert_exporter": "python",
   "pygments_lexer": "ipython3",
   "version": "3.9.12"
  },
  "orig_nbformat": 4,
  "vscode": {
   "interpreter": {
    "hash": "5ccfa51b6a2c575f9ec4b5f633399d96d9a08ae2d3de4a2b338c15ea2dbb5975"
   }
  }
 },
 "nbformat": 4,
 "nbformat_minor": 2
}
