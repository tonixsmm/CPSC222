{
 "cells": [
  {
   "cell_type": "code",
   "execution_count": 1,
   "id": "b7b9e422-ec91-466e-932d-fc02e38e8774",
   "metadata": {},
   "outputs": [
    {
     "name": "stdout",
     "output_type": "stream",
     "text": [
      "hello world\n"
     ]
    }
   ],
   "source": [
    "print(\"hello world\")"
   ]
  },
  {
   "cell_type": "markdown",
   "id": "b9e73af9-0153-4ce7-a55e-46a349896946",
   "metadata": {},
   "source": [
    "## This is a Level 2 Heading\n",
    "Hello"
   ]
  },
  {
   "cell_type": "code",
   "execution_count": null,
   "id": "38512ec0-1e22-4b74-a6fb-e381842f1b6b",
   "metadata": {},
   "outputs": [],
   "source": []
  }
 ],
 "metadata": {
  "kernelspec": {
   "display_name": "Python 3 (ipykernel)",
   "language": "python",
   "name": "python3"
  },
  "language_info": {
   "codemirror_mode": {
    "name": "ipython",
    "version": 3
   },
   "file_extension": ".py",
   "mimetype": "text/x-python",
   "name": "python",
   "nbconvert_exporter": "python",
   "pygments_lexer": "ipython3",
   "version": "3.9.12"
  }
 },
 "nbformat": 4,
 "nbformat_minor": 5
}
