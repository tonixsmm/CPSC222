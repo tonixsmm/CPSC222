{
 "cells": [
  {
   "cell_type": "markdown",
   "metadata": {},
   "source": [
    "print(\"hello world\")"
   ]
  },
  {
   "cell_type": "markdown",
   "metadata": {},
   "source": [
    "**Jupyter Notebook** is an interleaved list of `code` and *markdown* cells that collectively tell a data science story.\n",
    "\n",
    "$$y = mx + b$$"
   ]
  },
  {
   "cell_type": "markdown",
   "metadata": {},
   "source": [
    "# This is a Level One Header\n",
    "## This is a Level Two Header\n",
    "### This is a Level Three Header\n",
    "\n",
    "This is a paragraph\n",
    "This is another line\n",
    "\n",
    "Hard break: Two new line (press enter twice)  \n",
    "Soft break: Two spaces and a new line  \n",
    "Next line\n"
   ]
  },
  {
   "cell_type": "markdown",
   "metadata": {},
   "source": [
    "## Formatting\n",
    "We can **bold** *italicize* ~~strikethrough~~ `code format`\n",
    "\n",
    "```python\n",
    "for i in range(5):\n",
    "    print(i)\n",
    "```\n",
    "\n",
    ">This is a block quote"
   ]
  },
  {
   "cell_type": "markdown",
   "metadata": {},
   "source": [
    "## Lists\n",
    "Unordered list\n",
    "* Item A\n",
    "* Item B\n",
    "\n",
    "Ordered List\n",
    "1. Item A\n",
    "1. Item B\n",
    "1. Item C\n",
    "\n",
    "We can nest and mix list types\n",
    "1. Item 1\n",
    "1. Item 2\n",
    "    * Item A\n",
    "    * Item B\n",
    "1. Item C\n",
    "    1. Item 3.1\n",
    "    1. Item 3.2"
   ]
  },
  {
   "cell_type": "markdown",
   "metadata": {},
   "source": [
    "## Links\n",
    "Show the link: https://www.google.com\n",
    "\n",
    "I recommend you do [this](https://www.google.com) markdown tutorial\n"
   ]
  },
  {
   "cell_type": "markdown",
   "metadata": {},
   "source": [
    "## Images\n",
    "Using markdown (make sure the link refers to an image)\n",
    "![alt text](https://cdn.foliovision.com/images/2017/03/i-love-markdown.png)\n",
    "\n",
    "Image resizing using `html`\n",
    "\n",
    "<img src=\"https://cdn.foliovision.com/images/2017/03/i-love-markdown.png\" width=\"300\"/>"
   ]
  },
  {
   "cell_type": "markdown",
   "metadata": {},
   "source": [
    "## Tables\n",
    "NAME|PTS|CLASS\n",
    "-|-|-\n",
    "Andrew Nembhard|272|Sr\n",
    "Anton Watson|206|Jr"
   ]
  },
  {
   "cell_type": "markdown",
   "metadata": {},
   "source": [
    "## Latex (Math Mode)\n",
    "Latex is a mathematical typesetting langauge/framework used for writing documents and typesetting nice math expression/formulas.\n",
    "\n",
    "We will only use Latex's math mode\n",
    "\n",
    "Nees to be surrounded with two $\n",
    "\n",
    "Subscript notation: $x_i$ $$x_i$$ $x_{i+1}$\n",
    "\n",
    "Superscripts: $x^i$ $x^{i+1}$\n",
    "\n",
    "Symbols over characters: $\\overline{x+1}$ $\\widehat{x+1}$\n",
    "\n",
    "Special characters: $\\pi$ $\\alpha$ $\\mu$ $\\sigma$\n",
    "\n",
    "Square root: $\\sqrt{x + y + z}$\n",
    "\n",
    "Fraction: $\\frac{numerator}{denominator}$\n",
    "\n",
    "Sums: $\\sum_{i = 1}^{n} x_i$"
   ]
  },
  {
   "cell_type": "code",
   "execution_count": null,
   "metadata": {},
   "outputs": [],
   "source": [
    "import importlib #Reload the previous code cell"
   ]
  }
 ],
 "metadata": {
  "kernelspec": {
   "display_name": "Python 3.9.12 ('base')",
   "language": "python",
   "name": "python3"
  },
  "language_info": {
   "codemirror_mode": {
    "name": "ipython",
    "version": 3
   },
   "file_extension": ".py",
   "mimetype": "text/x-python",
   "name": "python",
   "nbconvert_exporter": "python",
   "pygments_lexer": "ipython3",
   "version": "3.9.12"
  },
  "orig_nbformat": 4,
  "vscode": {
   "interpreter": {
    "hash": "5ccfa51b6a2c575f9ec4b5f633399d96d9a08ae2d3de4a2b338c15ea2dbb5975"
   }
  }
 },
 "nbformat": 4,
 "nbformat_minor": 2
}
