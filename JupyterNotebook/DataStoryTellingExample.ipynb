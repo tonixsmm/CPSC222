{
 "cells": [
  {
   "cell_type": "markdown",
   "metadata": {},
   "source": [
    "# Data Storytelling Example: Quality of Life Scores\n",
    "## Motivation\n",
    "Let's say that we are interested in how quality of life varies across different urban areas. Some reasons we might be interested in this include\n",
    "* Moving to a new area, want to do some research beforehand\n",
    "* Considering establishing a new business and want to make sure the area can support it\n",
    "* etc.\n",
    "\n",
    "There are several aspects of quality of life that can be used to determine good places to live or start a business\n",
    "* Safety/Crime rate\n",
    "* Education\n",
    "* Cost of living\n",
    "* Access to outdoors, parks, recreations\n",
    "* Traffic/travel connectivity, public transportation\n",
    "* etc.\n",
    "\n",
    "We can get this information from the [Teleport API](https://developers.teleport.org). From the website:\n",
    "> We're building the largest and most up-to-date quality of life database for Planet Earth using 300+ different data dimensions from 70+ different sources, all updated periodically. Our global sources include the World Bank, World Health Organization, United Nations, Reporters Without Borders, OpenStreetMap, GeoNames, OpenFlights, Heritage Foundation, AngelList, Airbnb, Seed-DB and others. On top of these we augment the sets with things like laws and regulations, real estate prices and recruitment market data from local sources from countries around the world."
   ]
  },
  {
   "cell_type": "markdown",
   "metadata": {},
   "source": [
    "## Making a Request\n",
    "Let's make a request for quality of life data for Seattle. Seattle will be our *proof of concepts*, showing that we can use the API and get the data we want from it.\n",
    "\n",
    "There is an endpoint: `GET /urban_areas/{ua_id}/scores/` that we can use to get quality of life scores for an urban area. We need `ua_id` for Seattle. This is `slug:seattle`."
   ]
  },
  {
   "cell_type": "code",
   "execution_count": 1,
   "metadata": {},
   "outputs": [
    {
     "name": "stdout",
     "output_type": "stream",
     "text": [
      "{\"_links\":{\"curies\":[{\"href\":\"https://developers.teleport.org/api/resources/Location/#!/relations/{rel}/\",\"name\":\"location\",\"templated\":true},{\"href\":\"https://developers.teleport.org/api/resources/City/#!/relations/{rel}/\",\"name\":\"city\",\"templated\":true},{\"href\":\"https://developers.teleport.org/api/resources/UrbanArea/#!/relations/{rel}/\",\"name\":\"ua\",\"templated\":true},{\"href\":\"https://developers.teleport.org/api/resources/Country/#!/relations/{rel}/\",\"name\":\"country\",\"templated\":true},{\"href\":\"https://developers.teleport.org/api/resources/Admin1Division/#!/relations/{rel}/\",\"name\":\"a1\",\"templated\":true},{\"href\":\"https://developers.teleport.org/api/resources/Timezone/#!/relations/{rel}/\",\"name\":\"tz\",\"templated\":true}],\"self\":{\"href\":\"https://api.teleport.org/api/urban_areas/slug:seattle/scores/\"}},\"categories\":[{\"color\":\"#f3c32c\",\"name\":\"Housing\",\"score_out_of_10\":2.291},{\"color\":\"#f3d630\",\"name\":\"Cost of Living\",\"score_out_of_10\":3.79},{\"color\":\"#f4eb33\",\"name\":\"Startups\",\"score_out_of_10\":8.367},{\"color\":\"#d2ed31\",\"name\":\"Venture Capital\",\"score_out_of_10\":7.551000000000001},{\"color\":\"#7adc29\",\"name\":\"Travel Connectivity\",\"score_out_of_10\":2.8845},{\"color\":\"#36cc24\",\"name\":\"Commute\",\"score_out_of_10\":4.523750000000001},{\"color\":\"#19ad51\",\"name\":\"Business Freedom\",\"score_out_of_10\":8.671},{\"color\":\"#0d6999\",\"name\":\"Safety\",\"score_out_of_10\":5.6365},{\"color\":\"#051fa5\",\"name\":\"Healthcare\",\"score_out_of_10\":8.724333333333332},{\"color\":\"#150e78\",\"name\":\"Education\",\"score_out_of_10\":5.7145},{\"color\":\"#3d14a4\",\"name\":\"Environmental Quality\",\"score_out_of_10\":7.560250000000001},{\"color\":\"#5c14a1\",\"name\":\"Economy\",\"score_out_of_10\":6.5145},{\"color\":\"#88149f\",\"name\":\"Taxation\",\"score_out_of_10\":4.772},{\"color\":\"#b9117d\",\"name\":\"Internet Access\",\"score_out_of_10\":4.940499999999999},{\"color\":\"#d10d54\",\"name\":\"Leisure \\u0026 Culture\",\"score_out_of_10\":8.1155},{\"color\":\"#e70c26\",\"name\":\"Tolerance\",\"score_out_of_10\":8.0895},{\"color\":\"#f1351b\",\"name\":\"Outdoors\",\"score_out_of_10\":7.2094999999999985}],\"summary\":\"\\u003cp\\u003eSeattle, Washington, is among the top cities with a \\u003cb\\u003efree business environment\\u003c/b\\u003e.\\n\\n    \\n        According to our city rankings, this is a good place to live with high ratings in \\u003cb\\u003estartups\\u003c/b\\u003e, \\u003cb\\u003eventure capital\\u003c/b\\u003e and \\u003cb\\u003ehealthcare\\u003c/b\\u003e.\\n    \\n\\n    \\n\\u003c/p\\u003e\\n\\n\\n    \\u003cp\\u003eSeattle is one of the top ten city matches for 3.2% of Teleport users.\\u003c/p\\u003e\\n\",\"teleport_city_score\":62.74189189189191}\n"
     ]
    }
   ],
   "source": [
    "import requests\n",
    "\n",
    "url = \"https://api.teleport.org/api/urban_areas/slug:seattle/scores/\"\n",
    "\n",
    "response = requests.get(url=url)\n",
    "print(response.text)"
   ]
  },
  {
   "cell_type": "markdown",
   "metadata": {},
   "source": [
    "## Parsing the JSON response\n",
    "Now that we have the data for Seattle, we want to parse the category and score information out of it. We will store these category:score pairs in a pandas series for easy data exploration later."
   ]
  },
  {
   "cell_type": "code",
   "execution_count": 6,
   "metadata": {},
   "outputs": [
    {
     "name": "stdout",
     "output_type": "stream",
     "text": [
      "Housing                  2.291000\n",
      "Cost of Living           3.790000\n",
      "Startups                 8.367000\n",
      "Venture Capital          7.551000\n",
      "Travel Connectivity      2.884500\n",
      "Commute                  4.523750\n",
      "Business Freedom         8.671000\n",
      "Safety                   5.636500\n",
      "Healthcare               8.724333\n",
      "Education                5.714500\n",
      "Environmental Quality    7.560250\n",
      "Economy                  6.514500\n",
      "Taxation                 4.772000\n",
      "Internet Access          4.940500\n",
      "Leisure & Culture        8.115500\n",
      "Tolerance                8.089500\n",
      "Outdoors                 7.209500\n",
      "dtype: float64\n"
     ]
    }
   ],
   "source": [
    "import json\n",
    "import pandas as pd\n",
    "\n",
    "json_obj = json.loads(response.text)\n",
    "category_list = json_obj[\"categories\"]\n",
    "data_series = pd.Series(dtype=float)\n",
    "for category_obj in category_list:\n",
    "    data_series[category_obj[\"name\"]] = category_obj[\"score_out_of_10\"]\n",
    "print(data_series)"
   ]
  },
  {
   "cell_type": "markdown",
   "metadata": {},
   "source": [
    "## Data Visualization\n",
    "Let's visualize our Seattle of life score data using a bar chart (x-axis will be categories and y-axis will be scores)"
   ]
  },
  {
   "cell_type": "code",
   "execution_count": 7,
   "metadata": {},
   "outputs": [
    {
     "data": {
      "image/png": "[encoded data removed]",
      "text/plain": [
       "<Figure size 432x288 with 1 Axes>"
      ]
     },
     "metadata": {
      "needs_background": "light"
     },
     "output_type": "display_data"
    }
   ],
   "source": [
    "import matplotlib.pyplot as plt\n",
    "\n",
    "plt.bar(data_series.index, data_series)\n",
    "\n",
    "plt.title(\"Seattle Quality of Life Scores\")\n",
    "plt.xticks(rotation=45, ha=\"right\")\n",
    "plt.ylabel(\"Score out of 10\")\n",
    "plt.tight_layout()\n",
    "plt.show()"
   ]
  },
  {
   "cell_type": "markdown",
   "metadata": {},
   "source": [
    "## Insights\n",
    "Some strengths of Seattle includes:\n",
    "1. Startups\n",
    "1. Business freedom\n",
    "1. Healthcare\n",
    "1. Leisure and culture\n",
    "\n",
    "Some weeknesses of Seattle includes:\n",
    "1. Housing\n",
    "1. Cost of living\n",
    "1. Travel connectivity\n",
    "1. Taxation\n",
    "\n",
    "## Conclusions\n",
    "The Teleport API can be used to get quality of life scores for urban_areas. Our proof of concept with Seattle demonstated this. Furture work includes requesting this data for other urban areas like Los Angeles and comparing to determine best places to start business and/or live"
   ]
  }
 ],
 "metadata": {
  "kernelspec": {
   "display_name": "Python 3.9.12 ('base')",
   "language": "python",
   "name": "python3"
  },
  "language_info": {
   "codemirror_mode": {
    "name": "ipython",
    "version": 3
   },
   "file_extension": ".py",
   "mimetype": "text/x-python",
   "name": "python",
   "nbconvert_exporter": "python",
   "pygments_lexer": "ipython3",
   "version": "3.9.12"
  },
  "orig_nbformat": 4,
  "vscode": {
   "interpreter": {
    "hash": "5ccfa51b6a2c575f9ec4b5f633399d96d9a08ae2d3de4a2b338c15ea2dbb5975"
   }
  }
 },
 "nbformat": 4,
 "nbformat_minor": 2
}
