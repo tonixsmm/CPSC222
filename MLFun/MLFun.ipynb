{
 "cells": [
  {
   "cell_type": "markdown",
   "metadata": {},
   "source": [
    "## Machine Learning"
   ]
  },
  {
   "cell_type": "markdown",
   "metadata": {},
   "source": [
    "### Definitions\n",
    "* ML is a subset of artificial intelligence (AI), kinda, since it is advancing really fast!\n",
    "* AI: implementing human cognition on a machine\n",
    "* ML: has \"Learning\" - part of human cognition. Learning from and making prediction on data\n",
    "* Data Mining (DM): there are some overlapses with AI and ML, but apparently not the same. Discovering and using patterns in data"
   ]
  },
  {
   "cell_type": "markdown",
   "metadata": {},
   "source": [
    "### ML in Depth\n",
    "1. Supervised ML\n",
    "    * \"labels\" assigned from a supervisor, knowledgeable ones. Used to predict undue examples\n",
    "1. Unsupervised ML\n",
    "    * don't have any labels. Rely on DM for cluster, grouping, etc."
   ]
  },
  {
   "cell_type": "markdown",
   "metadata": {},
   "source": [
    "### Supervised ML\n",
    "* there is a \"traning set\" and \"test set\". The \"machine learner\" used \"prediction model\" to see if a test set fit a training set, ie. using stats\n",
    "* Classification: When the label attribute is categorical, ie. short v. tall, young v. old, etc.\n",
    "* Regression: label attribute is continuous, ie. age, etc.\n",
    "* Cat v. Dog example"
   ]
  },
  {
   "cell_type": "markdown",
   "metadata": {},
   "source": [
    "Feature|Cat|Dog|\n",
    "-------|---|---\n",
    "Fur color|Light|Dark\n",
    "Tongue out|No|Yes\n",
    "Ears up|Yes|No"
   ]
  },
  {
   "cell_type": "markdown",
   "metadata": {},
   "source": [
    "### Unsupervised ML\n",
    "* We split them into groups, but since it is unsupervised, it would not have a name\n",
    "* Not trying cat or dog, but rather deciding if an example would fit which group. You would probably need some algorithms\n"
   ]
  }
 ],
 "metadata": {
  "language_info": {
   "name": "python"
  },
  "orig_nbformat": 4
 },
 "nbformat": 4,
 "nbformat_minor": 2
}
